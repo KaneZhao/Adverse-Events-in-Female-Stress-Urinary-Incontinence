{
 "cells": [
  {
   "cell_type": "code",
   "execution_count": 1,
   "metadata": {},
   "outputs": [],
   "source": [
    "import numpy as np\n",
    "import pandas as pd\n",
    "from sklearn.model_selection import train_test_split\n",
    "from sklearn.feature_extraction.text import TfidfVectorizer"
   ]
  },
  {
   "cell_type": "code",
   "execution_count": 2,
   "metadata": {},
   "outputs": [],
   "source": [
    "df = pd.read_csv(\"./data/text_label.csv\",  encoding='latin-1')"
   ]
  },
  {
   "cell_type": "code",
   "execution_count": 3,
   "metadata": {},
   "outputs": [],
   "source": [
    "# Split into labeled and unlabeled data\n",
    "labeled_data = df[df['LABEL'].notna()]\n",
    "unlabeled_data = df[df['LABEL'].isna()]\n",
    "\n",
    "# Split labeled data into train and validation sets\n",
    "train_data, val_data = train_test_split(labeled_data, test_size=0.2, random_state=42)\n",
    "\n",
    "# Preprocess the text data using TF-IDF\n",
    "vectorizer = TfidfVectorizer(max_features=10000)\n",
    "X_train = vectorizer.fit_transform(train_data['FOI_TEXT'])\n",
    "X_val = vectorizer.transform(val_data['FOI_TEXT'])\n",
    "X_unlabeled = vectorizer.transform(unlabeled_data['FOI_TEXT'])\n",
    "\n",
    "y_train = train_data['LABEL']\n",
    "y_val = val_data['LABEL']"
   ]
  },
  {
   "cell_type": "code",
   "execution_count": 46,
   "metadata": {},
   "outputs": [
    {
     "data": {
      "text/plain": [
       "array([1., 4., 5., 2., 3.])"
      ]
     },
     "execution_count": 46,
     "metadata": {},
     "output_type": "execute_result"
    }
   ],
   "source": [
    "labeled_data['LABEL'].unique()"
   ]
  },
  {
   "cell_type": "code",
   "execution_count": 39,
   "metadata": {},
   "outputs": [
    {
     "data": {
      "text/plain": [
       "(9202,)"
      ]
     },
     "execution_count": 39,
     "metadata": {},
     "output_type": "execute_result"
    }
   ],
   "source": [
    "unlabeled_data['LABEL']"
   ]
  },
  {
   "cell_type": "code",
   "execution_count": 12,
   "metadata": {},
   "outputs": [
    {
     "name": "stdout",
     "output_type": "stream",
     "text": [
      "Validation Accuracy: 0.5185\n"
     ]
    }
   ],
   "source": [
    "from sklearn.linear_model import LogisticRegression\n",
    "from sklearn.metrics import accuracy_score\n",
    "\n",
    "# Initialize the classifier\n",
    "clf = LogisticRegression(max_iter=1000)\n",
    "\n",
    "# Train the classifier on labeled data\n",
    "clf.fit(X_train, y_train)\n",
    "\n",
    "# Evaluate on the validation set\n",
    "y_val_pred = clf.predict(X_val)\n",
    "initial_accuracy = accuracy_score(y_val, y_val_pred)\n",
    "print(f'Validation Accuracy: {accuracy_score(y_val, y_val_pred):.4f}')\n"
   ]
  },
  {
   "cell_type": "code",
   "execution_count": 29,
   "metadata": {},
   "outputs": [],
   "source": [
    "data = pd.read_csv(\"./data/text_label.csv\",  encoding='latin-1')\n",
    "X = data['FOI_TEXT']  # Text data\n",
    "y = data['LABEL']  # Labels\n",
    "\n",
    "# Split into labeled and unlabeled\n",
    "X_labeled = X[y.notnull()]\n",
    "y_labeled = y[y.notnull()]\n",
    "X_unlabeled = X[y.isnull()]"
   ]
  },
  {
   "cell_type": "code",
   "execution_count": 32,
   "metadata": {},
   "outputs": [],
   "source": [
    "from sklearn.model_selection import train_test_split\n",
    "\n",
    "# Split the labeled data into training and testing sets\n",
    "X_train, X_test, y_train, y_test = train_test_split(X_labeled, y_labeled, test_size=0.2, random_state=42, stratify=y_labeled)"
   ]
  },
  {
   "cell_type": "code",
   "execution_count": 33,
   "metadata": {},
   "outputs": [],
   "source": [
    "from sklearn.feature_extraction.text import TfidfVectorizer\n",
    "\n",
    "vectorizer = TfidfVectorizer(max_features=1000)  # Limit to top 1000 features for efficiency\n",
    "X_labeled_vec = vectorizer.fit_transform(X_labeled)\n",
    "X_unlabeled_vec = vectorizer.transform(X_unlabeled)\n",
    "X_train_vec = vectorizer.fit_transform(X_train)\n",
    "X_test_vec = vectorizer.transform(X_test)\n"
   ]
  },
  {
   "cell_type": "code",
   "execution_count": 34,
   "metadata": {},
   "outputs": [],
   "source": [
    "# Initialize the model\n",
    "model = LogisticRegression(multi_class='multinomial', solver='lbfgs', max_iter=200)\n",
    "\n",
    "# Self-training loop\n",
    "while True:\n",
    "    # Fit the model on the training data\n",
    "    model.fit(X_train_vec, y_train)\n",
    "\n",
    "    # Get probability predictions on the unlabeled data\n",
    "    y_pred_proba = model.predict_proba(X_unlabeled_vec)\n",
    "\n",
    "    # Get indices of samples with high confidence predictions\n",
    "    high_confidence_indices = np.where(np.max(y_pred_proba, axis=1) > 0.90)[0]\n",
    "\n",
    "    if len(high_confidence_indices) == 0:\n",
    "        break  # Exit if no high-confidence predictions\n",
    "\n",
    "    # Get the corresponding text and predicted labels\n",
    "    X_high_conf = X_unlabeled.iloc[high_confidence_indices]\n",
    "    y_high_conf = np.argmax(y_pred_proba[high_confidence_indices], axis=1)\n",
    "\n",
    "    # Append high-confidence samples to the labeled data\n",
    "    X_train = pd.concat([X_train, X_high_conf])\n",
    "    y_train = pd.concat([y_train, pd.Series(y_high_conf)])\n",
    "\n",
    "    # Remove high-confidence samples from the unlabeled data\n",
    "    X_unlabeled = X_unlabeled.drop(X_high_conf.index)\n",
    "\n",
    "    # Re-vectorize the updated training data\n",
    "    X_train_vec = vectorizer.fit_transform(X_train)\n",
    "    X_unlabeled_vec = vectorizer.transform(X_unlabeled)\n"
   ]
  },
  {
   "cell_type": "code",
   "execution_count": 35,
   "metadata": {},
   "outputs": [
    {
     "name": "stdout",
     "output_type": "stream",
     "text": [
      "              precision    recall  f1-score   support\n",
      "\n",
      "         0.0       0.81      1.00      0.90        44\n",
      "         1.0       0.50      0.40      0.44        25\n",
      "         2.0       0.47      0.47      0.47        15\n",
      "         3.0       0.31      0.31      0.31        16\n",
      "         4.0       0.83      0.38      0.53        13\n",
      "         5.0       0.71      0.83      0.77        12\n",
      "\n",
      "    accuracy                           0.65       125\n",
      "   macro avg       0.61      0.57      0.57       125\n",
      "weighted avg       0.64      0.65      0.63       125\n",
      "\n"
     ]
    }
   ],
   "source": [
    "# Evaluate on the test set\n",
    "y_pred = model.predict(X_test_vec)\n",
    "\n",
    "# Print classification report\n",
    "from sklearn.metrics import classification_report\n",
    "\n",
    "print(classification_report(y_test, y_pred))\n"
   ]
  },
  {
   "cell_type": "code",
   "execution_count": null,
   "metadata": {},
   "outputs": [],
   "source": [
    "from sklearn.metrics import confusion_matrix\n",
    "import seaborn as sns\n",
    "import matplotlib.pyplot as plt\n",
    "\n",
    "# Compute confusion matrix\n",
    "cm = confusion_matrix(y_test, y_pred)\n",
    "\n",
    "# Plot confusion matrix\n",
    "plt.figure(figsize=(10, 7))\n",
    "sns.heatmap(cm, annot=True, fmt='d', cmap='Blues', \n",
    "            xticklabels=np.unique(y_test), \n",
    "            yticklabels=np.unique(y_test))\n",
    "plt.xlabel('Predicted')\n",
    "plt.ylabel('Actual')\n",
    "plt.title('Confusion Matrix')\n",
    "plt.show()\n"
   ]
  },
  {
   "cell_type": "code",
   "execution_count": 48,
   "metadata": {},
   "outputs": [
    {
     "name": "stdout",
     "output_type": "stream",
     "text": [
      "Accuracy: 0.65\n"
     ]
    }
   ],
   "source": [
    "from sklearn.metrics import accuracy_score\n",
    "\n",
    "accuracy = accuracy_score(y_test, y_pred)\n",
    "print(f\"Accuracy: {accuracy:.2f}\")\n"
   ]
  },
  {
   "cell_type": "code",
   "execution_count": 3,
   "metadata": {},
   "outputs": [
    {
     "name": "stderr",
     "output_type": "stream",
     "text": [
      "/var/folders/xt/7gvkdnw143dgfgsp73bsn11w0000gn/T/ipykernel_1439/706233443.py:7: SettingWithCopyWarning: \n",
      "A value is trying to be set on a copy of a slice from a DataFrame.\n",
      "Try using .loc[row_indexer,col_indexer] = value instead\n",
      "\n",
      "See the caveats in the documentation: https://pandas.pydata.org/pandas-docs/stable/user_guide/indexing.html#returning-a-view-versus-a-copy\n",
      "  labeled_data[\"LABEL\"] = labeled_data[\"LABEL\"].astype(int)\n",
      "/var/folders/xt/7gvkdnw143dgfgsp73bsn11w0000gn/T/ipykernel_1439/706233443.py:10: SettingWithCopyWarning: \n",
      "A value is trying to be set on a copy of a slice from a DataFrame.\n",
      "Try using .loc[row_indexer,col_indexer] = value instead\n",
      "\n",
      "See the caveats in the documentation: https://pandas.pydata.org/pandas-docs/stable/user_guide/indexing.html#returning-a-view-versus-a-copy\n",
      "  labeled_data['encoded_label'] = label_encoder.fit_transform(labeled_data['LABEL'])\n"
     ]
    }
   ],
   "source": [
    "from sklearn.preprocessing import LabelEncoder\n",
    "\n",
    "# Split into labeled and unlabeled data\n",
    "labeled_data = df[df['LABEL'].notna()]\n",
    "unlabeled_data = df[df['LABEL'].isna()]\n",
    "\n",
    "labeled_data[\"LABEL\"] = labeled_data[\"LABEL\"].astype(int)\n",
    "\n",
    "label_encoder = LabelEncoder()\n",
    "labeled_data['encoded_label'] = label_encoder.fit_transform(labeled_data['LABEL'])\n",
    "# # Split labeled data into train and validation sets\n",
    "# train_data, val_data = train_test_split(labeled_data, test_size=0.2, random_state=42)\n",
    "\n",
    "# # Preprocess the text data using TF-IDF\n",
    "# vectorizer = TfidfVectorizer(max_features=10000)\n",
    "# X_train = vectorizer.fit_transform(train_data['FOI_TEXT'])\n",
    "# X_val = vectorizer.transform(val_data['FOI_TEXT'])\n",
    "# X_unlabeled = vectorizer.transform(unlabeled_data['FOI_TEXT'])\n",
    "\n",
    "# y_train = train_data['LABEL']\n",
    "# y_val = val_data['LABEL']"
   ]
  },
  {
   "cell_type": "code",
   "execution_count": 4,
   "metadata": {},
   "outputs": [],
   "source": [
    "from transformers import BertTokenizer\n",
    "from transformers import DistilBertTokenizer, DistilBertForSequenceClassification\n",
    "\n",
    "# Load the BioBERT tokenizer\n",
    "# tokenizer = BertTokenizer.from_pretrained('dmis-lab/biobert-v1.1')\n",
    "tokenizer = DistilBertTokenizer.from_pretrained('distilbert-base-uncased')\n",
    "\n",
    "\n",
    "def tokenize_texts(texts):\n",
    "    return tokenizer(texts, padding=True, truncation=True, return_tensors='pt')\n",
    "\n",
    "# Tokenize labeled and unlabeled data\n",
    "labeled_inputs = tokenize_texts(labeled_data['FOI_TEXT'].tolist())\n",
    "unlabeled_inputs = tokenize_texts(unlabeled_data['FOI_TEXT'].tolist())\n"
   ]
  },
  {
   "cell_type": "code",
   "execution_count": 44,
   "metadata": {},
   "outputs": [
    {
     "data": {
      "text/plain": [
       "array([0, 3, 4, 1, 2])"
      ]
     },
     "execution_count": 44,
     "metadata": {},
     "output_type": "execute_result"
    }
   ],
   "source": [
    "labeled_data['encoded_label'].unique()"
   ]
  },
  {
   "cell_type": "code",
   "execution_count": 5,
   "metadata": {},
   "outputs": [
    {
     "name": "stderr",
     "output_type": "stream",
     "text": [
      "2024-10-06 13:09:47.388460: I tensorflow/core/platform/cpu_feature_guard.cc:182] This TensorFlow binary is optimized to use available CPU instructions in performance-critical operations.\n",
      "To enable the following instructions: AVX2 FMA, in other operations, rebuild TensorFlow with the appropriate compiler flags.\n",
      "Some weights of DistilBertForSequenceClassification were not initialized from the model checkpoint at distilbert-base-uncased and are newly initialized: ['classifier.bias', 'classifier.weight', 'pre_classifier.bias', 'pre_classifier.weight']\n",
      "You should probably TRAIN this model on a down-stream task to be able to use it for predictions and inference.\n"
     ]
    }
   ],
   "source": [
    "import torch\n",
    "from transformers import BertForSequenceClassification, Trainer, TrainingArguments\n",
    "\n",
    "\n",
    "# Load the BioBERT model for sequence classification\n",
    "# model = BertForSequenceClassification.from_pretrained('dmis-lab/biobert-v1.1', num_labels=len(labeled_data['LABEL'].unique()))\n",
    "model = DistilBertForSequenceClassification.from_pretrained('distilbert-base-uncased', num_labels=len(labeled_data['LABEL'].unique()))\n",
    "\n",
    "# Prepare labels\n",
    "labels = torch.tensor(labeled_data['encoded_label'].tolist())\n"
   ]
  },
  {
   "cell_type": "code",
   "execution_count": 6,
   "metadata": {},
   "outputs": [],
   "source": [
    "# Create a dataset for the Trainer\n",
    "class CustomDataset(torch.utils.data.Dataset):\n",
    "    def __init__(self, inputs, labels):\n",
    "        self.inputs = inputs\n",
    "        self.labels = labels\n",
    "\n",
    "    def __len__(self):\n",
    "        return len(self.labels)\n",
    "\n",
    "    def __getitem__(self, idx):\n",
    "        # Ensure we return a dictionary that matches the model's input format\n",
    "        return {\n",
    "            'input_ids': self.inputs['input_ids'][idx],\n",
    "            'attention_mask': self.inputs['attention_mask'][idx],\n",
    "            'labels': self.labels[idx]  # Must be included as 'labels'\n",
    "        }\n",
    "\n",
    "\n",
    "# Create datasets\n",
    "train_dataset = CustomDataset(labeled_inputs, labels)"
   ]
  },
  {
   "cell_type": "code",
   "execution_count": 7,
   "metadata": {},
   "outputs": [
    {
     "data": {
      "application/vnd.jupyter.widget-view+json": {
       "model_id": "786f390b82e84880a941a65b5bdc5790",
       "version_major": 2,
       "version_minor": 0
      },
      "text/plain": [
       "  0%|          | 0/101 [00:00<?, ?it/s]"
      ]
     },
     "metadata": {},
     "output_type": "display_data"
    },
    {
     "name": "stdout",
     "output_type": "stream",
     "text": [
      "{'train_runtime': 801.1519, 'train_samples_per_second': 0.503, 'train_steps_per_second': 0.126, 'train_loss': 1.547321130733679, 'epoch': 1.0}\n"
     ]
    },
    {
     "data": {
      "text/plain": [
       "TrainOutput(global_step=101, training_loss=1.547321130733679, metrics={'train_runtime': 801.1519, 'train_samples_per_second': 0.503, 'train_steps_per_second': 0.126, 'total_flos': 53387217761280.0, 'train_loss': 1.547321130733679, 'epoch': 1.0})"
      ]
     },
     "execution_count": 7,
     "metadata": {},
     "output_type": "execute_result"
    }
   ],
   "source": [
    "# Set training arguments\n",
    "training_args = TrainingArguments(\n",
    "    output_dir='./results',\n",
    "    num_train_epochs=1,\n",
    "    per_device_train_batch_size=4,\n",
    "    warmup_steps=500,\n",
    "    weight_decay=0.01,\n",
    "    logging_dir='./logs',\n",
    ")\n",
    "\n",
    "# Train the model\n",
    "trainer = Trainer(\n",
    "    model=model,\n",
    "    args=training_args,\n",
    "    train_dataset=train_dataset,\n",
    ")\n",
    "\n",
    "trainer.train()"
   ]
  },
  {
   "cell_type": "code",
   "execution_count": 8,
   "metadata": {},
   "outputs": [
    {
     "name": "stdout",
     "output_type": "stream",
     "text": [
      "Iteration 1/5\n"
     ]
    }
   ],
   "source": [
    "# Define maximum iterations and confidence threshold\n",
    "max_iterations = 5\n",
    "confidence_threshold = 0.8\n",
    "previous_pseudo_labels_count = 0\n",
    "\n",
    "for iteration in range(max_iterations):\n",
    "    print(f\"Iteration {iteration + 1}/{max_iterations}\")\n",
    "\n",
    "    # Set model to evaluation mode\n",
    "    model.eval()\n",
    "\n",
    "    # Predict on unlabeled data\n",
    "    with torch.no_grad():\n",
    "        outputs = model(**unlabeled_inputs)\n",
    "        predictions = torch.argmax(outputs.logits, dim=1)\n",
    "        probabilities = torch.nn.functional.softmax(outputs.logits, dim=1)\n",
    "\n",
    "    # Get high-confidence predictions\n",
    "    high_confidence_indices = (probabilities.max(dim=1)[0] >= confidence_threshold).nonzero(as_tuple=True)[0]\n",
    "\n",
    "    # Filter out high-confidence predictions\n",
    "    pseudo_labels = predictions[high_confidence_indices]\n",
    "    unlabeled_texts = unlabeled_data['text'].tolist()\n",
    "    high_confidence_texts = [unlabeled_texts[i] for i in high_confidence_indices]\n",
    "\n",
    "    # Create a new DataFrame for pseudo-labeled data\n",
    "    pseudo_labeled_data = pd.DataFrame({\n",
    "        'text': high_confidence_texts,\n",
    "        'label': pseudo_labels.tolist()\n",
    "    })\n",
    "\n",
    "    # Stop if no new pseudo-labels are generated\n",
    "    if len(pseudo_labeled_data) == 0:\n",
    "        print(\"No high-confidence pseudo-labels found. Stopping the process.\")\n",
    "        break\n",
    "\n",
    "    # Combine labeled and pseudo-labeled data\n",
    "    combined_data = pd.concat([combined_data, pseudo_labeled_data], ignore_index=True)\n",
    "\n",
    "    # Tokenize the combined dataset\n",
    "    combined_inputs = tokenize_texts(combined_data['text'].tolist())\n",
    "    combined_labels = torch.tensor(combined_data['label'].tolist())\n",
    "\n",
    "    # Create dataset for Trainer\n",
    "    combined_dataset = CustomDataset(combined_inputs, combined_labels)\n",
    "\n",
    "    # Train the model again\n",
    "    trainer = Trainer(\n",
    "        model=model,\n",
    "        args=training_args,\n",
    "        train_dataset=combined_dataset,\n",
    "    )\n",
    "\n",
    "    trainer.train()\n",
    "\n",
    "    # Optional: Check if the number of pseudo-labels is improving\n",
    "    new_pseudo_labels_count = len(pseudo_labeled_data)\n",
    "    if new_pseudo_labels_count == previous_pseudo_labels_count:\n",
    "        print(\"No improvement in the number of pseudo-labels. Stopping the process.\")\n",
    "        break\n",
    "    previous_pseudo_labels_count = new_pseudo_labels_count\n",
    "\n",
    "# Final evaluation (optional)\n",
    "trainer.evaluate()\n"
   ]
  },
  {
   "cell_type": "code",
   "execution_count": 22,
   "metadata": {},
   "outputs": [
    {
     "ename": "NameError",
     "evalue": "name 'trainer' is not defined",
     "output_type": "error",
     "traceback": [
      "\u001b[0;31m---------------------------------------------------------------------------\u001b[0m",
      "\u001b[0;31mNameError\u001b[0m                                 Traceback (most recent call last)",
      "\u001b[1;32m/Users/zhaohengchuan/Desktop/nui/year2/tri2/MATHS_7097A/Adverse-Events-in-Female-Stress-Urinary-Incontinence/Semi_Supervised_Learning.ipynb Cell 21\u001b[0m line \u001b[0;36m2\n\u001b[1;32m      <a href='vscode-notebook-cell:/Users/zhaohengchuan/Desktop/nui/year2/tri2/MATHS_7097A/Adverse-Events-in-Female-Stress-Urinary-Incontinence/Semi_Supervised_Learning.ipynb#X30sZmlsZQ%3D%3D?line=0'>1</a>\u001b[0m \u001b[39m# Evaluation code (e.g., using metrics like accuracy, precision, recall)\u001b[39;00m\n\u001b[0;32m----> <a href='vscode-notebook-cell:/Users/zhaohengchuan/Desktop/nui/year2/tri2/MATHS_7097A/Adverse-Events-in-Female-Stress-Urinary-Incontinence/Semi_Supervised_Learning.ipynb#X30sZmlsZQ%3D%3D?line=1'>2</a>\u001b[0m trainer\u001b[39m.\u001b[39mevaluate()\n",
      "\u001b[0;31mNameError\u001b[0m: name 'trainer' is not defined"
     ]
    }
   ],
   "source": [
    "# Evaluation code (e.g., using metrics like accuracy, precision, recall)\n",
    "trainer.evaluate()\n"
   ]
  },
  {
   "cell_type": "code",
   "execution_count": null,
   "metadata": {},
   "outputs": [],
   "source": [
    "# Tokenize new data\n",
    "new_data = ['new_unlabeled_text1', 'new_unlabeled_text2']\n",
    "new_inputs = tokenize_texts(new_data)\n",
    "\n",
    "# Predict\n",
    "model.eval()\n",
    "with torch.no_grad():\n",
    "    outputs = model(**new_inputs)\n",
    "    final_predictions = torch.argmax(outputs.logits, dim=1)\n",
    "\n",
    "# Output predictions\n",
    "print(final_predictions)\n"
   ]
  },
  {
   "cell_type": "code",
   "execution_count": 3,
   "metadata": {},
   "outputs": [],
   "source": [
    "import pandas as pd\n",
    "import numpy as np\n",
    "from sklearn.feature_extraction.text import TfidfVectorizer\n",
    "from sklearn.semi_supervised import LabelPropagation\n",
    "from sklearn.model_selection import train_test_split\n",
    "from sklearn.metrics import classification_report, accuracy_score\n",
    "\n",
    "# 1. Load your dataset\n",
    "# Assuming the DataFrame df has columns 'FOI_TEXT' (text data) and 'LABEL' (target labels)\n",
    "# df = pd.read_csv('your_dataset.csv')\n",
    "df = pd.read_csv(\"./data/text_label.csv\",  encoding='latin-1')\n",
    "\n",
    "# 2. Separate labeled and unlabeled data\n",
    "labeled_data = df[df['LABEL'].notna()]\n",
    "unlabeled_data = df[df['LABEL'].isna()]\n",
    "\n",
    "# 3. Split the labeled data into training and validation sets\n",
    "train_data, val_data = train_test_split(labeled_data, test_size=0.2, random_state=42)"
   ]
  },
  {
   "cell_type": "code",
   "execution_count": 4,
   "metadata": {},
   "outputs": [
    {
     "name": "stdout",
     "output_type": "stream",
     "text": [
      "Accuracy on the validation set:  0.3333333333333333\n",
      "Classification report on validation set:\n",
      "               precision    recall  f1-score   support\n",
      "\n",
      "         1.0       0.33      1.00      0.50        27\n",
      "         2.0       0.00      0.00      0.00        12\n",
      "         3.0       0.00      0.00      0.00        21\n",
      "         4.0       0.00      0.00      0.00        12\n",
      "         5.0       0.00      0.00      0.00         9\n",
      "\n",
      "    accuracy                           0.33        81\n",
      "   macro avg       0.07      0.20      0.10        81\n",
      "weighted avg       0.11      0.33      0.17        81\n",
      "\n"
     ]
    },
    {
     "name": "stderr",
     "output_type": "stream",
     "text": [
      "/Library/Frameworks/Python.framework/Versions/3.10/lib/python3.10/site-packages/sklearn/metrics/_classification.py:1344: UndefinedMetricWarning: Precision and F-score are ill-defined and being set to 0.0 in labels with no predicted samples. Use `zero_division` parameter to control this behavior.\n",
      "  _warn_prf(average, modifier, msg_start, len(result))\n",
      "/Library/Frameworks/Python.framework/Versions/3.10/lib/python3.10/site-packages/sklearn/metrics/_classification.py:1344: UndefinedMetricWarning: Precision and F-score are ill-defined and being set to 0.0 in labels with no predicted samples. Use `zero_division` parameter to control this behavior.\n",
      "  _warn_prf(average, modifier, msg_start, len(result))\n",
      "/Library/Frameworks/Python.framework/Versions/3.10/lib/python3.10/site-packages/sklearn/metrics/_classification.py:1344: UndefinedMetricWarning: Precision and F-score are ill-defined and being set to 0.0 in labels with no predicted samples. Use `zero_division` parameter to control this behavior.\n",
      "  _warn_prf(average, modifier, msg_start, len(result))\n"
     ]
    }
   ],
   "source": [
    "# 4. Preprocess the text data using TF-IDF\n",
    "vectorizer = TfidfVectorizer(max_features=10000)\n",
    "\n",
    "X_train = vectorizer.fit_transform(train_data['FOI_TEXT']).toarray()  # Fit and transform on train data\n",
    "X_val = vectorizer.transform(val_data['FOI_TEXT']).toarray()          # Transform only for validation data\n",
    "X_unlabeled = vectorizer.transform(unlabeled_data['FOI_TEXT']).toarray()  # Transform for unlabeled data\n",
    "\n",
    "# 5. Prepare labels for the semi-supervised model\n",
    "y_train = y_train.fillna(-1)\n",
    "\n",
    "# 6. Train the LabelPropagation model\n",
    "label_prop_model = LabelPropagation(kernel='rbf', gamma=0.1)  # You can tune kernel and gamma\n",
    "label_prop_model.fit(X_train, y_train)\n",
    "\n",
    "# 7. Predict on the validation set to evaluate model performance\n",
    "y_val_pred = label_prop_model.predict(X_val)\n",
    "\n",
    "# 8. Evaluate the performance on the validation set\n",
    "print(\"Accuracy on the validation set: \", accuracy_score(y_val, y_val_pred))\n",
    "print(\"Classification report on validation set:\\n\", classification_report(y_val, y_val_pred))"
   ]
  },
  {
   "cell_type": "code",
   "execution_count": 9,
   "metadata": {},
   "outputs": [
    {
     "data": {
      "text/plain": [
       "array([1., 1., 1., ..., 1., 1., 1.])"
      ]
     },
     "execution_count": 9,
     "metadata": {},
     "output_type": "execute_result"
    }
   ],
   "source": []
  },
  {
   "cell_type": "code",
   "execution_count": 15,
   "metadata": {},
   "outputs": [
    {
     "name": "stdout",
     "output_type": "stream",
     "text": [
      "                                               FOI_TEXT  LABEL\n",
      "9585  IT WAS REPORTED TO BOSTON SCIENTIFIC CORPORATI...    1.0\n",
      "9586  BLOCK A1: (B)(6). BLOCK D4, H4: THE COMPLAINAN...    1.0\n",
      "9587  (B)(6). THE COMPLAINANT WAS UNABLE TO PROVIDE ...    1.0\n",
      "9588  IT WAS REPORTED TO BOSTON SCIENTIFIC CORPORATI...    1.0\n",
      "9589  (B)(6). THE COMPLAINANT WAS UNABLE TO PROVIDE ...    1.0\n",
      "9590  IT WAS REPORTED TO BOSTON SCIENTIFIC CORPORATI...    1.0\n",
      "9591  IT WAS REPORTED TO BOSTON SCIENTIFIC CORPORATI...    1.0\n",
      "9592  BLOCK A1: (B)(6). BLOCK D4, H4: THE COMPLAINAN...    1.0\n",
      "9593  IT WAS REPORTED TO BOSTON SCIENTIFIC CORPORATI...    1.0\n",
      "9594  (B)(6). THE COMPLAINANT WAS UNABLE TO PROVIDE ...    1.0\n",
      "9595  (B)(6). THE COMPLAINANT WAS UNABLE TO PROVIDE ...    1.0\n",
      "9596  IT WAS REPORTED TO BOSTON SCIENTIFIC CORPORATI...    1.0\n",
      "9597  BLOCK A1: (B)(6). BLOCK D4, H4: THE COMPLAINAN...    1.0\n",
      "9598  IT WAS REPORTED TO BOSTON SCIENTIFIC CORPORATI...    1.0\n",
      "9599  IT WAS REPORTED TO BOSTON SCIENTIFIC CORPORATI...    1.0\n",
      "9600  DATE OF EVENT: THE EXACT EVENT ONSET DATE IS U...    1.0\n",
      "9601  (B)(6). THE COMPLAINANT WAS UNABLE TO PROVIDE ...    1.0\n",
      "9602  IT WAS REPORTED TO BOSTON SCIENTIFIC CORPORATI...    1.0\n",
      "9603  IT WAS REPORTED TO BOSTON SCIENTIFIC CORPORATI...    1.0\n",
      "9604  (B)(6). THE COMPLAINANT WAS UNABLE TO PROVIDE ...    1.0\n"
     ]
    },
    {
     "name": "stderr",
     "output_type": "stream",
     "text": [
      "/var/folders/xt/7gvkdnw143dgfgsp73bsn11w0000gn/T/ipykernel_1404/215640336.py:5: SettingWithCopyWarning: \n",
      "A value is trying to be set on a copy of a slice from a DataFrame.\n",
      "Try using .loc[row_indexer,col_indexer] = value instead\n",
      "\n",
      "See the caveats in the documentation: https://pandas.pydata.org/pandas-docs/stable/user_guide/indexing.html#returning-a-view-versus-a-copy\n",
      "  unlabeled_data['LABEL'] = predicted_labels_unlabeled\n"
     ]
    }
   ],
   "source": [
    "# 9. Predict labels for the unlabeled data\n",
    "predicted_labels_unlabeled = label_prop_model.predict(X_unlabeled)\n",
    "\n",
    "# 10. Add predicted labels to the unlabeled DataFrame\n",
    "unlabeled_data['LABEL'] = predicted_labels_unlabeled\n",
    "\n",
    "# 11. Combine the labeled and now-labeled data into one DataFrame\n",
    "df_combined = pd.concat([labeled_data, unlabeled_data], axis=0)\n",
    "\n",
    "# Check the results: View a sample of the data with predictions\n",
    "print(df_combined[['FOI_TEXT', 'LABEL']].tail(20))\n",
    "\n",
    "# Optionally, you can save the combined dataset\n",
    "# df_combined.to_csv('combined_dataset_with_predictions.csv', index=False)"
   ]
  },
  {
   "cell_type": "code",
   "execution_count": 17,
   "metadata": {},
   "outputs": [
    {
     "data": {
      "text/html": [
       "<div>\n",
       "<style scoped>\n",
       "    .dataframe tbody tr th:only-of-type {\n",
       "        vertical-align: middle;\n",
       "    }\n",
       "\n",
       "    .dataframe tbody tr th {\n",
       "        vertical-align: top;\n",
       "    }\n",
       "\n",
       "    .dataframe thead th {\n",
       "        text-align: right;\n",
       "    }\n",
       "</style>\n",
       "<table border=\"1\" class=\"dataframe\">\n",
       "  <thead>\n",
       "    <tr style=\"text-align: right;\">\n",
       "      <th></th>\n",
       "      <th>MDR_REPORT_KEY</th>\n",
       "      <th>MDR_TEXT_KEY</th>\n",
       "      <th>TEXT_TYPE_CODE</th>\n",
       "      <th>PATIENT_SEQUENCE_NUMBER</th>\n",
       "      <th>FOI_TEXT</th>\n",
       "      <th>DATE_RECEIVED</th>\n",
       "      <th>LABEL</th>\n",
       "      <th>predicted_label</th>\n",
       "    </tr>\n",
       "  </thead>\n",
       "  <tbody>\n",
       "  </tbody>\n",
       "</table>\n",
       "</div>"
      ],
      "text/plain": [
       "Empty DataFrame\n",
       "Columns: [MDR_REPORT_KEY, MDR_TEXT_KEY, TEXT_TYPE_CODE, PATIENT_SEQUENCE_NUMBER, FOI_TEXT, DATE_RECEIVED, LABEL, predicted_label]\n",
       "Index: []"
      ]
     },
     "execution_count": 17,
     "metadata": {},
     "output_type": "execute_result"
    }
   ],
   "source": [
    "unlabeled_data[unlabeled_data['LABEL'] == 2]"
   ]
  },
  {
   "cell_type": "code",
   "execution_count": 20,
   "metadata": {},
   "outputs": [
    {
     "data": {
      "text/plain": [
       "array([1.])"
      ]
     },
     "execution_count": 20,
     "metadata": {},
     "output_type": "execute_result"
    }
   ],
   "source": [
    "np.unique(predicted_labels_unlabeled)"
   ]
  },
  {
   "cell_type": "code",
   "execution_count": 21,
   "metadata": {},
   "outputs": [
    {
     "data": {
      "text/plain": [
       "LABEL\n",
       "1.0    126\n",
       "3.0     78\n",
       "2.0     75\n",
       "4.0     66\n",
       "5.0     58\n",
       "Name: count, dtype: int64"
      ]
     },
     "execution_count": 21,
     "metadata": {},
     "output_type": "execute_result"
    }
   ],
   "source": [
    "labeled_data['LABEL'].value_counts()"
   ]
  },
  {
   "cell_type": "code",
   "execution_count": 23,
   "metadata": {},
   "outputs": [
    {
     "name": "stderr",
     "output_type": "stream",
     "text": [
      "2024-10-06 20:26:56.910105: I tensorflow/core/platform/cpu_feature_guard.cc:182] This TensorFlow binary is optimized to use available CPU instructions in performance-critical operations.\n",
      "To enable the following instructions: AVX2 FMA, in other operations, rebuild TensorFlow with the appropriate compiler flags.\n"
     ]
    }
   ],
   "source": [
    "import pandas as pd\n",
    "import numpy as np\n",
    "from sklearn.feature_extraction.text import TfidfVectorizer\n",
    "from sklearn.linear_model import LogisticRegression\n",
    "from sklearn.semi_supervised import SelfTrainingClassifier\n",
    "from sklearn.metrics import classification_report\n",
    "from transformers import pipeline\n"
   ]
  },
  {
   "cell_type": "code",
   "execution_count": 33,
   "metadata": {},
   "outputs": [
    {
     "data": {
      "text/plain": [
       "(400, 7)"
      ]
     },
     "execution_count": 33,
     "metadata": {},
     "output_type": "execute_result"
    }
   ],
   "source": [
    "unlabeled_data[:400].shape"
   ]
  },
  {
   "cell_type": "code",
   "execution_count": 37,
   "metadata": {},
   "outputs": [],
   "source": [
    "df = pd.read_csv(\"./data/text_label.csv\",  encoding='latin-1')\n",
    "labeled_data = df[df['LABEL'].notna()]\n",
    "unlabeled_data = df[df['LABEL'].isna()][:40]\n",
    "\n",
    "X_labeled = labeled_data['FOI_TEXT']\n",
    "y_labeled = labeled_data['LABEL']\n",
    "X_unlabeled = unlabeled_data['FOI_TEXT']"
   ]
  },
  {
   "cell_type": "code",
   "execution_count": 38,
   "metadata": {},
   "outputs": [],
   "source": [
    "candidate_labels = [\n",
    "    'Lowest severity',\n",
    "    'Mild severity',\n",
    "    'Moderate severity',\n",
    "    'High severity',\n",
    "    'Most severe'\n",
    "]"
   ]
  },
  {
   "cell_type": "code",
   "execution_count": 25,
   "metadata": {},
   "outputs": [],
   "source": [
    "# Step 1: Use Zero-Shot Classifier to label the unlabeled data\n",
    "zero_shot_classifier = pipeline(\"zero-shot-classification\", model=\"facebook/bart-large-mnli\")"
   ]
  },
  {
   "cell_type": "code",
   "execution_count": 39,
   "metadata": {},
   "outputs": [
    {
     "name": "stderr",
     "output_type": "stream",
     "text": [
      "Processing Unlabeled Data: 100%|██████████| 40/40 [03:48<00:00,  5.72s/it]\n"
     ]
    }
   ],
   "source": [
    "# Predict labels for the unlabeled data\n",
    "from tqdm import tqdm\n",
    "\n",
    "predictions = []\n",
    "for text in tqdm(X_unlabeled, desc=\"Processing Unlabeled Data\"):\n",
    "    result = zero_shot_classifier(text, candidate_labels)\n",
    "    predicted_label = result['labels'][0]  # Get the highest confidence label\n",
    "    predictions.append(predicted_label)\n"
   ]
  },
  {
   "cell_type": "code",
   "execution_count": 41,
   "metadata": {},
   "outputs": [],
   "source": [
    "label_mapping = {\n",
    "    'Lowest severity': 1,\n",
    "    'Mild severity': 2,\n",
    "    'Moderate severity': 3,\n",
    "    'High severity': 4,\n",
    "    'Most severe': 5\n",
    "}\n",
    "\n",
    "numeric_predictions = [label_mapping[label] for label in predictions]"
   ]
  },
  {
   "cell_type": "code",
   "execution_count": 47,
   "metadata": {},
   "outputs": [],
   "source": [
    "labeled_data = labeled_data[['FOI_TEXT', 'LABEL']]"
   ]
  },
  {
   "cell_type": "code",
   "execution_count": 43,
   "metadata": {},
   "outputs": [],
   "source": [
    "# Create a new DataFrame for predicted labels\n",
    "predicted_df = pd.DataFrame({\n",
    "    'FOI_TEXT': X_unlabeled,\n",
    "    'LABEL': numeric_predictions\n",
    "})\n"
   ]
  },
  {
   "cell_type": "code",
   "execution_count": 48,
   "metadata": {},
   "outputs": [],
   "source": [
    "# Step 2: Combine the original labeled data with the new predicted data\n",
    "combined_data = pd.concat([labeled_data, predicted_df], ignore_index=True)"
   ]
  },
  {
   "cell_type": "code",
   "execution_count": 50,
   "metadata": {},
   "outputs": [],
   "source": [
    "# Prepare features for the combined dataset\n",
    "X_combined = combined_data['FOI_TEXT']\n",
    "y_combined = combined_data['LABEL']\n",
    "\n",
    "# Vectorize the text data\n",
    "vectorizer = TfidfVectorizer(max_features=10000)\n",
    "X_combined_vec = vectorizer.fit_transform(X_combined)\n"
   ]
  },
  {
   "cell_type": "code",
   "execution_count": 51,
   "metadata": {},
   "outputs": [
    {
     "name": "stderr",
     "output_type": "stream",
     "text": [
      "/Library/Frameworks/Python.framework/Versions/3.10/lib/python3.10/site-packages/sklearn/semi_supervised/_self_training.py:212: UserWarning: y contains no unlabeled samples\n",
      "  warnings.warn(\"y contains no unlabeled samples\", UserWarning)\n"
     ]
    },
    {
     "data": {
      "text/html": [
       "<style>#sk-container-id-1 {color: black;background-color: white;}#sk-container-id-1 pre{padding: 0;}#sk-container-id-1 div.sk-toggleable {background-color: white;}#sk-container-id-1 label.sk-toggleable__label {cursor: pointer;display: block;width: 100%;margin-bottom: 0;padding: 0.3em;box-sizing: border-box;text-align: center;}#sk-container-id-1 label.sk-toggleable__label-arrow:before {content: \"▸\";float: left;margin-right: 0.25em;color: #696969;}#sk-container-id-1 label.sk-toggleable__label-arrow:hover:before {color: black;}#sk-container-id-1 div.sk-estimator:hover label.sk-toggleable__label-arrow:before {color: black;}#sk-container-id-1 div.sk-toggleable__content {max-height: 0;max-width: 0;overflow: hidden;text-align: left;background-color: #f0f8ff;}#sk-container-id-1 div.sk-toggleable__content pre {margin: 0.2em;color: black;border-radius: 0.25em;background-color: #f0f8ff;}#sk-container-id-1 input.sk-toggleable__control:checked~div.sk-toggleable__content {max-height: 200px;max-width: 100%;overflow: auto;}#sk-container-id-1 input.sk-toggleable__control:checked~label.sk-toggleable__label-arrow:before {content: \"▾\";}#sk-container-id-1 div.sk-estimator input.sk-toggleable__control:checked~label.sk-toggleable__label {background-color: #d4ebff;}#sk-container-id-1 div.sk-label input.sk-toggleable__control:checked~label.sk-toggleable__label {background-color: #d4ebff;}#sk-container-id-1 input.sk-hidden--visually {border: 0;clip: rect(1px 1px 1px 1px);clip: rect(1px, 1px, 1px, 1px);height: 1px;margin: -1px;overflow: hidden;padding: 0;position: absolute;width: 1px;}#sk-container-id-1 div.sk-estimator {font-family: monospace;background-color: #f0f8ff;border: 1px dotted black;border-radius: 0.25em;box-sizing: border-box;margin-bottom: 0.5em;}#sk-container-id-1 div.sk-estimator:hover {background-color: #d4ebff;}#sk-container-id-1 div.sk-parallel-item::after {content: \"\";width: 100%;border-bottom: 1px solid gray;flex-grow: 1;}#sk-container-id-1 div.sk-label:hover label.sk-toggleable__label {background-color: #d4ebff;}#sk-container-id-1 div.sk-serial::before {content: \"\";position: absolute;border-left: 1px solid gray;box-sizing: border-box;top: 0;bottom: 0;left: 50%;z-index: 0;}#sk-container-id-1 div.sk-serial {display: flex;flex-direction: column;align-items: center;background-color: white;padding-right: 0.2em;padding-left: 0.2em;position: relative;}#sk-container-id-1 div.sk-item {position: relative;z-index: 1;}#sk-container-id-1 div.sk-parallel {display: flex;align-items: stretch;justify-content: center;background-color: white;position: relative;}#sk-container-id-1 div.sk-item::before, #sk-container-id-1 div.sk-parallel-item::before {content: \"\";position: absolute;border-left: 1px solid gray;box-sizing: border-box;top: 0;bottom: 0;left: 50%;z-index: -1;}#sk-container-id-1 div.sk-parallel-item {display: flex;flex-direction: column;z-index: 1;position: relative;background-color: white;}#sk-container-id-1 div.sk-parallel-item:first-child::after {align-self: flex-end;width: 50%;}#sk-container-id-1 div.sk-parallel-item:last-child::after {align-self: flex-start;width: 50%;}#sk-container-id-1 div.sk-parallel-item:only-child::after {width: 0;}#sk-container-id-1 div.sk-dashed-wrapped {border: 1px dashed gray;margin: 0 0.4em 0.5em 0.4em;box-sizing: border-box;padding-bottom: 0.4em;background-color: white;}#sk-container-id-1 div.sk-label label {font-family: monospace;font-weight: bold;display: inline-block;line-height: 1.2em;}#sk-container-id-1 div.sk-label-container {text-align: center;}#sk-container-id-1 div.sk-container {/* jupyter's `normalize.less` sets `[hidden] { display: none; }` but bootstrap.min.css set `[hidden] { display: none !important; }` so we also need the `!important` here to be able to override the default hidden behavior on the sphinx rendered scikit-learn.org. See: https://github.com/scikit-learn/scikit-learn/issues/21755 */display: inline-block !important;position: relative;}#sk-container-id-1 div.sk-text-repr-fallback {display: none;}</style><div id=\"sk-container-id-1\" class=\"sk-top-container\"><div class=\"sk-text-repr-fallback\"><pre>SelfTrainingClassifier(base_estimator=LogisticRegression(max_iter=1000))</pre><b>In a Jupyter environment, please rerun this cell to show the HTML representation or trust the notebook. <br />On GitHub, the HTML representation is unable to render, please try loading this page with nbviewer.org.</b></div><div class=\"sk-container\" hidden><div class=\"sk-item sk-dashed-wrapped\"><div class=\"sk-label-container\"><div class=\"sk-label sk-toggleable\"><input class=\"sk-toggleable__control sk-hidden--visually\" id=\"sk-estimator-id-1\" type=\"checkbox\" ><label for=\"sk-estimator-id-1\" class=\"sk-toggleable__label sk-toggleable__label-arrow\">SelfTrainingClassifier</label><div class=\"sk-toggleable__content\"><pre>SelfTrainingClassifier(base_estimator=LogisticRegression(max_iter=1000))</pre></div></div></div><div class=\"sk-parallel\"><div class=\"sk-parallel-item\"><div class=\"sk-item\"><div class=\"sk-label-container\"><div class=\"sk-label sk-toggleable\"><input class=\"sk-toggleable__control sk-hidden--visually\" id=\"sk-estimator-id-2\" type=\"checkbox\" ><label for=\"sk-estimator-id-2\" class=\"sk-toggleable__label sk-toggleable__label-arrow\">base_estimator: LogisticRegression</label><div class=\"sk-toggleable__content\"><pre>LogisticRegression(max_iter=1000)</pre></div></div></div><div class=\"sk-serial\"><div class=\"sk-item\"><div class=\"sk-estimator sk-toggleable\"><input class=\"sk-toggleable__control sk-hidden--visually\" id=\"sk-estimator-id-3\" type=\"checkbox\" ><label for=\"sk-estimator-id-3\" class=\"sk-toggleable__label sk-toggleable__label-arrow\">LogisticRegression</label><div class=\"sk-toggleable__content\"><pre>LogisticRegression(max_iter=1000)</pre></div></div></div></div></div></div></div></div></div></div>"
      ],
      "text/plain": [
       "SelfTrainingClassifier(base_estimator=LogisticRegression(max_iter=1000))"
      ]
     },
     "execution_count": 51,
     "metadata": {},
     "output_type": "execute_result"
    }
   ],
   "source": [
    "# Step 3: Train a Classifier on the Combined Dataset\n",
    "base_model = LogisticRegression(max_iter=1000)\n",
    "self_training_model = SelfTrainingClassifier(base_model)\n",
    "\n",
    "# Fit the self-training model on the combined dataset\n",
    "self_training_model.fit(X_combined_vec, y_combined)\n"
   ]
  },
  {
   "cell_type": "code",
   "execution_count": 52,
   "metadata": {},
   "outputs": [
    {
     "name": "stdout",
     "output_type": "stream",
     "text": [
      "Iteration 1\n"
     ]
    },
    {
     "name": "stderr",
     "output_type": "stream",
     "text": [
      "/Library/Frameworks/Python.framework/Versions/3.10/lib/python3.10/site-packages/sklearn/semi_supervised/_self_training.py:212: UserWarning: y contains no unlabeled samples\n",
      "  warnings.warn(\"y contains no unlabeled samples\", UserWarning)\n"
     ]
    },
    {
     "name": "stdout",
     "output_type": "stream",
     "text": [
      "              precision    recall  f1-score   support\n",
      "\n",
      "         0.0       0.50      0.88      0.64        67\n",
      "         1.0       0.66      0.52      0.58       126\n",
      "         2.0       0.69      0.74      0.71        84\n",
      "         3.0       0.74      0.63      0.68       107\n",
      "         4.0       0.93      0.63      0.75        68\n",
      "         5.0       0.78      0.90      0.83        58\n",
      "\n",
      "    accuracy                           0.68       510\n",
      "   macro avg       0.72      0.71      0.70       510\n",
      "weighted avg       0.71      0.68      0.68       510\n",
      "\n",
      "Iteration 2\n"
     ]
    },
    {
     "name": "stderr",
     "output_type": "stream",
     "text": [
      "/Library/Frameworks/Python.framework/Versions/3.10/lib/python3.10/site-packages/sklearn/semi_supervised/_self_training.py:212: UserWarning: y contains no unlabeled samples\n",
      "  warnings.warn(\"y contains no unlabeled samples\", UserWarning)\n"
     ]
    },
    {
     "name": "stdout",
     "output_type": "stream",
     "text": [
      "              precision    recall  f1-score   support\n",
      "\n",
      "         0.0       0.50      0.88      0.64        67\n",
      "         1.0       0.66      0.52      0.58       126\n",
      "         2.0       0.69      0.74      0.71        84\n",
      "         3.0       0.74      0.63      0.68       107\n",
      "         4.0       0.93      0.63      0.75        68\n",
      "         5.0       0.78      0.90      0.83        58\n",
      "\n",
      "    accuracy                           0.68       510\n",
      "   macro avg       0.72      0.71      0.70       510\n",
      "weighted avg       0.71      0.68      0.68       510\n",
      "\n",
      "Iteration 3\n"
     ]
    },
    {
     "name": "stderr",
     "output_type": "stream",
     "text": [
      "/Library/Frameworks/Python.framework/Versions/3.10/lib/python3.10/site-packages/sklearn/semi_supervised/_self_training.py:212: UserWarning: y contains no unlabeled samples\n",
      "  warnings.warn(\"y contains no unlabeled samples\", UserWarning)\n"
     ]
    },
    {
     "name": "stdout",
     "output_type": "stream",
     "text": [
      "              precision    recall  f1-score   support\n",
      "\n",
      "         0.0       0.50      0.88      0.64        67\n",
      "         1.0       0.66      0.52      0.58       126\n",
      "         2.0       0.69      0.74      0.71        84\n",
      "         3.0       0.74      0.63      0.68       107\n",
      "         4.0       0.93      0.63      0.75        68\n",
      "         5.0       0.78      0.90      0.83        58\n",
      "\n",
      "    accuracy                           0.68       510\n",
      "   macro avg       0.72      0.71      0.70       510\n",
      "weighted avg       0.71      0.68      0.68       510\n",
      "\n"
     ]
    }
   ],
   "source": [
    "# Step 4: Iterative Self-Training\n",
    "num_iterations = 3  # Define the number of iterations\n",
    "confidence_threshold = 0.7  # Set a confidence threshold for predictions\n",
    "\n",
    "for iteration in range(num_iterations):\n",
    "    print(f\"Iteration {iteration + 1}\")\n",
    "\n",
    "    # Predict labels for unlabeled data\n",
    "    pseudo_labels = self_training_model.predict_proba(X_combined_vec)\n",
    "\n",
    "    # Select high-confidence predictions\n",
    "    high_confidence_indices = np.where(np.max(pseudo_labels, axis=1) >= confidence_threshold)[0]\n",
    "    high_confidence_predictions = np.argmax(pseudo_labels, axis=1)[high_confidence_indices]\n",
    "\n",
    "    # Create a DataFrame for high-confidence predictions\n",
    "    high_confidence_df = pd.DataFrame({\n",
    "        'FOI_TEXT': combined_data.iloc[high_confidence_indices]['FOI_TEXT'],\n",
    "        'LABEL': high_confidence_predictions\n",
    "    })\n",
    "\n",
    "    # Combine the high-confidence predictions with the original labeled data\n",
    "    combined_data = pd.concat([combined_data, high_confidence_df], ignore_index=True)\n",
    "\n",
    "    # Vectorize the combined dataset again\n",
    "    X_combined_vec = vectorizer.fit_transform(combined_data['FOI_TEXT'])\n",
    "    y_combined = combined_data['LABEL']\n",
    "\n",
    "    # Train the self-training model on the updated combined dataset\n",
    "    self_training_model.fit(X_combined_vec, y_combined)\n",
    "\n",
    "    # Optionally, evaluate the model on validation or test data\n",
    "    y_combined_pred = self_training_model.predict(X_combined_vec)\n",
    "    print(classification_report(y_combined, y_combined_pred))\n"
   ]
  },
  {
   "cell_type": "code",
   "execution_count": 53,
   "metadata": {},
   "outputs": [
    {
     "name": "stdout",
     "output_type": "stream",
     "text": [
      "Final classification report:\n",
      "              precision    recall  f1-score   support\n",
      "\n",
      "         0.0       0.50      0.88      0.64        67\n",
      "         1.0       0.66      0.52      0.58       126\n",
      "         2.0       0.69      0.74      0.71        84\n",
      "         3.0       0.74      0.63      0.68       107\n",
      "         4.0       0.93      0.63      0.75        68\n",
      "         5.0       0.78      0.90      0.83        58\n",
      "\n",
      "    accuracy                           0.68       510\n",
      "   macro avg       0.72      0.71      0.70       510\n",
      "weighted avg       0.71      0.68      0.68       510\n",
      "\n"
     ]
    }
   ],
   "source": [
    "# Final evaluation of the self-training model\n",
    "y_final_pred = self_training_model.predict(X_combined_vec)\n",
    "print(\"Final classification report:\")\n",
    "print(classification_report(y_combined, y_final_pred))\n"
   ]
  },
  {
   "cell_type": "code",
   "execution_count": 54,
   "metadata": {},
   "outputs": [
    {
     "name": "stdout",
     "output_type": "stream",
     "text": [
      "Classification Report:\n",
      "              precision    recall  f1-score   support\n",
      "\n",
      "         0.0       0.50      0.88      0.64        67\n",
      "         1.0       0.66      0.52      0.58       126\n",
      "         2.0       0.69      0.74      0.71        84\n",
      "         3.0       0.74      0.63      0.68       107\n",
      "         4.0       0.93      0.63      0.75        68\n",
      "         5.0       0.78      0.90      0.83        58\n",
      "\n",
      "    accuracy                           0.68       510\n",
      "   macro avg       0.72      0.71      0.70       510\n",
      "weighted avg       0.71      0.68      0.68       510\n",
      "\n"
     ]
    },
    {
     "data": {
      "image/png": "[encoded data removed]",
      "text/plain": [
       "<Figure size 1000x700 with 2 Axes>"
      ]
     },
     "metadata": {},
     "output_type": "display_data"
    }
   ],
   "source": [
    "from sklearn.metrics import classification_report, confusion_matrix\n",
    "import seaborn as sns\n",
    "import matplotlib.pyplot as plt\n",
    "\n",
    "# Assuming y_combined contains the true labels and y_final_pred contains the predicted labels\n",
    "y_combined = combined_data['LABEL']  # True labels\n",
    "y_final_pred = self_training_model.predict(X_combined_vec)  # Predicted labels\n",
    "\n",
    "# Print the classification report\n",
    "print(\"Classification Report:\")\n",
    "print(classification_report(y_combined, y_final_pred))\n",
    "\n",
    "# Create and display the confusion matrix\n",
    "cm = confusion_matrix(y_combined, y_final_pred)\n",
    "\n",
    "plt.figure(figsize=(10, 7))\n",
    "sns.heatmap(cm, annot=True, fmt='d', cmap='Blues', \n",
    "            xticklabels=[1, 2, 3, 4, 5], \n",
    "            yticklabels=[1, 2, 3, 4, 5])\n",
    "plt.xlabel('Predicted Label')\n",
    "plt.ylabel('True Label')\n",
    "plt.title('Confusion Matrix')\n",
    "plt.show()\n"
   ]
  }
 ],
 "metadata": {
  "kernelspec": {
   "display_name": "Python 3",
   "language": "python",
   "name": "python3"
  },
  "language_info": {
   "codemirror_mode": {
    "name": "ipython",
    "version": 3
   },
   "file_extension": ".py",
   "mimetype": "text/x-python",
   "name": "python",
   "nbconvert_exporter": "python",
   "pygments_lexer": "ipython3",
   "version": "3.10.10"
  },
  "orig_nbformat": 4
 },
 "nbformat": 4,
 "nbformat_minor": 2
}
