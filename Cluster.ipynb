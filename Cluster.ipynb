{
 "cells": [
  {
   "cell_type": "code",
   "execution_count": 6,
   "metadata": {},
   "outputs": [],
   "source": [
    "import pandas as pd\n",
    "import nltk\n",
    "from nltk.sentiment.vader import SentimentIntensityAnalyzer\n",
    "import matplotlib.pyplot as plt\n",
    "from sklearn.cluster import KMeans"
   ]
  },
  {
   "cell_type": "code",
   "execution_count": 3,
   "metadata": {},
   "outputs": [],
   "source": [
    "merged_files_filtered = pd.read_csv('./data/stress_urinary_incontinence.csv')"
   ]
  },
  {
   "cell_type": "code",
   "execution_count": 5,
   "metadata": {},
   "outputs": [],
   "source": [
    "merged_files_filtered['DATE_RECEIVED'] = pd.to_datetime(merged_files_filtered['DATE_RECEIVED'])\n",
    "\n",
    "# Perform sentiment analysis using the VADER lexicon\n",
    "sia = SentimentIntensityAnalyzer()\n",
    "merged_files_filtered['sentiment'] = merged_files_filtered['FOI_TEXT'].apply(lambda x: sia.polarity_scores(x)['compound'])\n",
    "\n",
    "# Create a year column based on the DATE_RECEIVED column\n",
    "merged_files_filtered['year'] = merged_files_filtered['DATE_RECEIVED'].dt.year\n",
    "\n",
    "# Group the data by year and sentiment and count the number of reviews in each group\n",
    "grouped_data = merged_files_filtered.groupby(['year', 'sentiment'])['FOI_TEXT'].count().reset_index()\n",
    "\n",
    "# Pivot the data to create a matrix with years as rows, sentiment as columns, and review counts as values\n",
    "pivoted_data = grouped_data.pivot(index='year', columns='sentiment', values='FOI_TEXT').fillna(0)"
   ]
  },
  {
   "cell_type": "code",
   "execution_count": null,
   "metadata": {},
   "outputs": [],
   "source": [
    "# Perform K-Means clustering on the sentiment scores, with 3 clusters (negative, neutral, positive)\n",
    "kmeans = KMeans(n_clusters=3, random_state=0).fit(merged_files_filtered[['sentiment']])\n",
    "\n",
    "# Add a cluster column to the data\n",
    "merged_files_filtered['cluster'] = kmeans.labels_\n",
    "\n",
    "# Group the data by year and cluster and count the number of reviews in each group\n",
    "grouped_data = merged_files_filtered.groupby(['year', 'cluster'])['FOI_TEXT'].count().reset_index()\n",
    "\n",
    "# Pivot the data to create a matrix with years as rows, clusters as columns, and review counts as values\n",
    "pivoted_data = grouped_data.pivot(index='year', columns='cluster', values='FOI_TEXT').fillna(0)\n"
   ]
  }
 ],
 "metadata": {
  "kernelspec": {
   "display_name": "Python 3",
   "language": "python",
   "name": "python3"
  },
  "language_info": {
   "codemirror_mode": {
    "name": "ipython",
    "version": 3
   },
   "file_extension": ".py",
   "mimetype": "text/x-python",
   "name": "python",
   "nbconvert_exporter": "python",
   "pygments_lexer": "ipython3",
   "version": "3.10.10"
  },
  "orig_nbformat": 4
 },
 "nbformat": 4,
 "nbformat_minor": 2
}
