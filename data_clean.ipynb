{
 "cells": [
  {
   "cell_type": "code",
   "execution_count": 1,
   "metadata": {},
   "outputs": [],
   "source": [
    "import pandas as pd\n",
    "import numpy as np\n",
    "import matplotlib.pyplot as plt\n",
    "import seaborn as sns\n",
    "# import tensorflow as tf\n",
    "# from tensorflow import keras\n",
    "# from keras.models import Sequential\n",
    "# from keras.layers import Dense, LSTM, Dropout\n",
    "# from sklearn.preprocessing import MinMaxScaler\n",
    "# from sklearn.metrics import mean_squared_error\n",
    "# from sklearn import metrics"
   ]
  },
  {
   "cell_type": "code",
   "execution_count": 2,
   "metadata": {},
   "outputs": [],
   "source": [
    "from tqdm.notebook import tqdm\n",
    "import warnings"
   ]
  },
  {
   "cell_type": "code",
   "execution_count": 3,
   "metadata": {},
   "outputs": [
    {
     "data": {
      "application/vnd.jupyter.widget-view+json": {
       "model_id": "c97f953fec3341a38072b7f398f15786",
       "version_major": 2,
       "version_minor": 0
      },
      "text/plain": [
       "  0%|          | 0/6 [00:00<?, ?it/s]"
      ]
     },
     "metadata": {},
     "output_type": "display_data"
    }
   ],
   "source": [
    "device_full_files = pd.DataFrame()\n",
    "\n",
    "\n",
    "with warnings.catch_warnings():\n",
    "    warnings.filterwarnings(\"ignore\", category=pd.errors.DtypeWarning)\n",
    "    for year in tqdm([2017, 2018, 2019, 2020, 2022, 2023]):\n",
    "        device_file = pd.read_csv('https://www.accessdata.fda.gov/MAUDE/ftparea/device%d.zip' % year, sep='|', quoting=3, encoding = \"ISO-8859-1\", on_bad_lines='skip')\n",
    "        device_file_filtered = device_file[device_file['GENERIC_NAME'].str.contains(\"MESH, SURGICAL, SYNTHETIC, UROGYNECOLOGIC, FOR STRESS URINARY INCONTINENCE, RETR\").fillna(False)]\n",
    "        # device_file_filtered.to_csv('./data/device_filtered%d.zip' % year, index = False)\n",
    "        # device_full_files = device_full_files.append(device_file_filtered)\n",
    "        device_full_files = pd.concat([device_full_files, pd.DataFrame(device_file_filtered)], ignore_index=True)\n",
    "    device_full_files.to_csv('./data/device_full_files.zip', index = False)    "
   ]
  },
  {
   "cell_type": "code",
   "execution_count": 7,
   "metadata": {},
   "outputs": [],
   "source": [
    "# patient_filtered = patient[patient['GENERIC_NAME'].str.contains(\"MESH, SURGICAL, SYNTHETIC, UROGYNECOLOGIC, FOR STRESS URINARY INCONTINENCE, RETR\").fillna(False)]"
   ]
  },
  {
   "cell_type": "code",
   "execution_count": 4,
   "metadata": {},
   "outputs": [
    {
     "data": {
      "text/plain": [
       "(2034, 31)"
      ]
     },
     "execution_count": 4,
     "metadata": {},
     "output_type": "execute_result"
    }
   ],
   "source": [
    "device_full_files.shape"
   ]
  },
  {
   "cell_type": "code",
   "execution_count": 5,
   "metadata": {},
   "outputs": [
    {
     "data": {
      "text/plain": [
       "Index(['MDR_REPORT_KEY', 'DEVICE_EVENT_KEY', 'IMPLANT_FLAG',\n",
       "       'DATE_REMOVED_FLAG', 'DEVICE_SEQUENCE_NO', 'DATE_RECEIVED',\n",
       "       'BRAND_NAME', 'GENERIC_NAME', 'MANUFACTURER_D_NAME',\n",
       "       'MANUFACTURER_D_ADDRESS_1', 'MANUFACTURER_D_ADDRESS_2',\n",
       "       'MANUFACTURER_D_CITY', 'MANUFACTURER_D_STATE_CODE',\n",
       "       'MANUFACTURER_D_ZIP_CODE', 'MANUFACTURER_D_ZIP_CODE_EXT',\n",
       "       'MANUFACTURER_D_COUNTRY_CODE', 'MANUFACTURER_D_POSTAL_CODE',\n",
       "       'DEVICE_OPERATOR', 'EXPIRATION_DATE_OF_DEVICE', 'MODEL_NUMBER',\n",
       "       'CATALOG_NUMBER', 'LOT_NUMBER', 'OTHER_ID_NUMBER',\n",
       "       'DEVICE_AVAILABILITY', 'DATE_RETURNED_TO_MANUFACTURER',\n",
       "       'DEVICE_REPORT_PRODUCT_CODE', 'DEVICE_AGE_TEXT',\n",
       "       'DEVICE_EVALUATED_BY_MANUFACTUR', 'COMBINATION_PRODUCT_FLAG', 'UDI-DI',\n",
       "       'UDI-PUBLIC'],\n",
       "      dtype='object')"
      ]
     },
     "execution_count": 5,
     "metadata": {},
     "output_type": "execute_result"
    }
   ],
   "source": [
    "device_full_files.columns"
   ]
  },
  {
   "cell_type": "code",
   "execution_count": 7,
   "metadata": {},
   "outputs": [
    {
     "data": {
      "application/vnd.jupyter.widget-view+json": {
       "model_id": "df06ef6ed59445a380f95ab222e62946",
       "version_major": 2,
       "version_minor": 0
      },
      "text/plain": [
       "  0%|          | 0/6 [00:00<?, ?it/s]"
      ]
     },
     "metadata": {},
     "output_type": "display_data"
    }
   ],
   "source": [
    "foitext_files = pd.DataFrame()\n",
    "local = False\n",
    "with warnings.catch_warnings():\n",
    "    warnings.filterwarnings(\"ignore\", category=pd.errors.DtypeWarning)\n",
    "    for year in tqdm(range(2017, 2023)):\n",
    "        if local:\n",
    "            foitext_file = pd.read_csv('data/foitext%d.zip' % year)\n",
    "        else:\n",
    "            foitext_file = pd.read_csv('https://www.accessdata.fda.gov/MAUDE/ftparea/foitext%d.zip' % year, sep='|', quoting=3, encoding = \"ISO-8859-1\")\n",
    "            foitext_file.to_csv('data/foitext%d.zip' % year, index = False)\n",
    "            foitext_files = pd.concat([foitext_file, pd.DataFrame(foitext_file)], ignore_index=True)\n",
    "    foitext_files.to_csv('./data/foitext_files.zip', index = False)        "
   ]
  },
  {
   "cell_type": "code",
   "execution_count": 8,
   "metadata": {},
   "outputs": [
    {
     "data": {
      "text/plain": [
       "(13225460, 6)"
      ]
     },
     "execution_count": 8,
     "metadata": {},
     "output_type": "execute_result"
    }
   ],
   "source": [
    "foitext_files.shape"
   ]
  },
  {
   "cell_type": "code",
   "execution_count": 9,
   "metadata": {},
   "outputs": [
    {
     "data": {
      "text/plain": [
       "Index(['MDR_REPORT_KEY', 'MDR_TEXT_KEY', 'TEXT_TYPE_CODE',\n",
       "       'PATIENT_SEQUENCE_NUMBER', 'DATE_REPORT', 'FOI_TEXT'],\n",
       "      dtype='object')"
      ]
     },
     "execution_count": 9,
     "metadata": {},
     "output_type": "execute_result"
    }
   ],
   "source": [
    "foitext_files.columns"
   ]
  }
 ],
 "metadata": {
  "kernelspec": {
   "display_name": "Python 3",
   "language": "python",
   "name": "python3"
  },
  "language_info": {
   "codemirror_mode": {
    "name": "ipython",
    "version": 3
   },
   "file_extension": ".py",
   "mimetype": "text/x-python",
   "name": "python",
   "nbconvert_exporter": "python",
   "pygments_lexer": "ipython3",
   "version": "3.10.10"
  },
  "orig_nbformat": 4
 },
 "nbformat": 4,
 "nbformat_minor": 2
}
