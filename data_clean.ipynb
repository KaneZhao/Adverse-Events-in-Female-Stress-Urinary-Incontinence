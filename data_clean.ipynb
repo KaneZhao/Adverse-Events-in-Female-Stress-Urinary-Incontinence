{
 "cells": [
  {
   "cell_type": "code",
   "execution_count": 1,
   "metadata": {},
   "outputs": [],
   "source": [
    "import pandas as pd\n",
    "import numpy as np\n",
    "import matplotlib.pyplot as plt\n",
    "import seaborn as sns\n",
    "# import tensorflow as tf\n",
    "# from tensorflow import keras\n",
    "# from keras.models import Sequential\n",
    "# from keras.layers import Dense, LSTM, Dropout\n",
    "# from sklearn.preprocessing import MinMaxScaler\n",
    "# from sklearn.metrics import mean_squared_error\n",
    "# from sklearn import metrics"
   ]
  },
  {
   "cell_type": "code",
   "execution_count": 2,
   "metadata": {},
   "outputs": [],
   "source": [
    "from tqdm.notebook import tqdm\n",
    "import warnings"
   ]
  },
  {
   "cell_type": "code",
   "execution_count": 11,
   "metadata": {},
   "outputs": [
    {
     "data": {
      "application/vnd.jupyter.widget-view+json": {
       "model_id": "96cf275a4ce54f5da1af72d66a32e60d",
       "version_major": 2,
       "version_minor": 0
      },
      "text/plain": [
       "  0%|          | 0/6 [00:00<?, ?it/s]"
      ]
     },
     "metadata": {},
     "output_type": "display_data"
    }
   ],
   "source": [
    "device_full_files = pd.DataFrame()\n",
    "\n",
    "\n",
    "with warnings.catch_warnings():\n",
    "    warnings.filterwarnings(\"ignore\", category=pd.errors.DtypeWarning)\n",
    "    for year in tqdm([2017, 2018, 2019, 2020, 2022, 2023]):\n",
    "        device_file = pd.read_csv('https://www.accessdata.fda.gov/MAUDE/ftparea/device%d.zip' % year, sep='|', quoting=3, encoding = \"ISO-8859-1\", on_bad_lines='skip')\n",
    "        device_file_filtered = device_file[device_file['GENERIC_NAME'].str.contains(\"MESH, SURGICAL, SYNTHETIC, UROGYNECOLOGIC, FOR STRESS URINARY INCONTINENCE, RETR\").fillna(False)]\n",
    "        device_file_filtered.to_csv('./data/device_filtered%d.zip' % year, index = False)\n",
    "        # device_full_files = device_full_files.append(device_file_filtered)\n",
    "        device_full_files = pd.concat([device_full_files, pd.DataFrame(device_file_filtered)], ignore_index=True)"
   ]
  },
  {
   "cell_type": "code",
   "execution_count": 5,
   "metadata": {},
   "outputs": [
    {
     "name": "stderr",
     "output_type": "stream",
     "text": [
      "/var/folders/xt/7gvkdnw143dgfgsp73bsn11w0000gn/T/ipykernel_1090/4273465210.py:1: DtypeWarning: Columns (0,1,2,3,4,22) have mixed types. Specify dtype option on import or set low_memory=False.\n",
      "  patient = pd.read_csv('./data/device2019.zip', sep='|', quoting=3, encoding = \"ISO-8859-1\", on_bad_lines='skip')\n"
     ]
    }
   ],
   "source": [
    "patient = pd.read_csv('./data/device2019.zip', sep='|', quoting=3, encoding = \"ISO-8859-1\", on_bad_lines='skip')"
   ]
  },
  {
   "cell_type": "code",
   "execution_count": 6,
   "metadata": {},
   "outputs": [
    {
     "data": {
      "text/html": [
       "<div>\n",
       "<style scoped>\n",
       "    .dataframe tbody tr th:only-of-type {\n",
       "        vertical-align: middle;\n",
       "    }\n",
       "\n",
       "    .dataframe tbody tr th {\n",
       "        vertical-align: top;\n",
       "    }\n",
       "\n",
       "    .dataframe thead th {\n",
       "        text-align: right;\n",
       "    }\n",
       "</style>\n",
       "<table border=\"1\" class=\"dataframe\">\n",
       "  <thead>\n",
       "    <tr style=\"text-align: right;\">\n",
       "      <th></th>\n",
       "      <th>MDR_REPORT_KEY</th>\n",
       "      <th>DEVICE_EVENT_KEY</th>\n",
       "      <th>IMPLANT_FLAG</th>\n",
       "      <th>DATE_REMOVED_FLAG</th>\n",
       "      <th>DEVICE_SEQUENCE_NO</th>\n",
       "      <th>DATE_RECEIVED</th>\n",
       "      <th>BRAND_NAME</th>\n",
       "      <th>GENERIC_NAME</th>\n",
       "      <th>MANUFACTURER_D_NAME</th>\n",
       "      <th>MANUFACTURER_D_ADDRESS_1</th>\n",
       "      <th>...</th>\n",
       "      <th>LOT_NUMBER</th>\n",
       "      <th>OTHER_ID_NUMBER</th>\n",
       "      <th>DEVICE_AVAILABILITY</th>\n",
       "      <th>DATE_RETURNED_TO_MANUFACTURER</th>\n",
       "      <th>DEVICE_REPORT_PRODUCT_CODE</th>\n",
       "      <th>DEVICE_AGE_TEXT</th>\n",
       "      <th>DEVICE_EVALUATED_BY_MANUFACTUR</th>\n",
       "      <th>COMBINATION_PRODUCT_FLAG</th>\n",
       "      <th>UDI-DI</th>\n",
       "      <th>UDI-PUBLIC</th>\n",
       "    </tr>\n",
       "  </thead>\n",
       "  <tbody>\n",
       "    <tr>\n",
       "      <th>0</th>\n",
       "      <td>7491296</td>\n",
       "      <td>NaN</td>\n",
       "      <td>NaN</td>\n",
       "      <td>NaN</td>\n",
       "      <td>1</td>\n",
       "      <td>2019/03/06</td>\n",
       "      <td>PARADIGM REAL-TIME INSULIN INFUSION PUMP MMT-7...</td>\n",
       "      <td>PUMP, INFUSION, INSULIN, TO BE USED WITH INVAS...</td>\n",
       "      <td>MEDTRONIC PUERTO RICO OPERATIONS CO.</td>\n",
       "      <td>CEIBA NORTE IND. PARK #50 ROAD</td>\n",
       "      <td>...</td>\n",
       "      <td>A4722NASJ</td>\n",
       "      <td>NaN</td>\n",
       "      <td>R</td>\n",
       "      <td>2018/04/11</td>\n",
       "      <td>OYC</td>\n",
       "      <td>DA</td>\n",
       "      <td>R</td>\n",
       "      <td>N</td>\n",
       "      <td>00613994373083</td>\n",
       "      <td>(01)00613994373083</td>\n",
       "    </tr>\n",
       "    <tr>\n",
       "      <th>1</th>\n",
       "      <td>7811695</td>\n",
       "      <td>NaN</td>\n",
       "      <td>NaN</td>\n",
       "      <td>NaN</td>\n",
       "      <td>1</td>\n",
       "      <td>2019/03/08</td>\n",
       "      <td>MONOPOLAR ACTIVE CORD, BOVIE/VALLEYLAB GENERATORS</td>\n",
       "      <td>MONOPOLAR ACTIVE CORD</td>\n",
       "      <td>GYRUS ACMI, INC</td>\n",
       "      <td>136 TURNPIKE ROAD</td>\n",
       "      <td>...</td>\n",
       "      <td>1K</td>\n",
       "      <td>NaN</td>\n",
       "      <td>R</td>\n",
       "      <td>2019/02/07</td>\n",
       "      <td>FAS</td>\n",
       "      <td>DA</td>\n",
       "      <td>Y</td>\n",
       "      <td>N</td>\n",
       "      <td>NaN</td>\n",
       "      <td>NaN</td>\n",
       "    </tr>\n",
       "    <tr>\n",
       "      <th>2</th>\n",
       "      <td>7987287</td>\n",
       "      <td>NaN</td>\n",
       "      <td>NaN</td>\n",
       "      <td>NaN</td>\n",
       "      <td>1</td>\n",
       "      <td>2019/07/18</td>\n",
       "      <td>PARADIGM REAL-TIME REVEL INSULIN INFUSION PUMP...</td>\n",
       "      <td>PUMP, INFUSION, INSULIN, TO BE USED WITH INVAS...</td>\n",
       "      <td>MEDTRONIC PUERTO RICO OPERATIONS CO.</td>\n",
       "      <td>CEIBA NORTE IND. PARK #50 ROAD</td>\n",
       "      <td>...</td>\n",
       "      <td>A5723LNALJ</td>\n",
       "      <td>NaN</td>\n",
       "      <td>R</td>\n",
       "      <td>2019/07/10</td>\n",
       "      <td>OYC</td>\n",
       "      <td>DA</td>\n",
       "      <td>R</td>\n",
       "      <td>N</td>\n",
       "      <td>00643169513891</td>\n",
       "      <td>(01)00643169513891</td>\n",
       "    </tr>\n",
       "    <tr>\n",
       "      <th>3</th>\n",
       "      <td>8033177</td>\n",
       "      <td>NaN</td>\n",
       "      <td>NaN</td>\n",
       "      <td>NaN</td>\n",
       "      <td>1</td>\n",
       "      <td>2019/02/06</td>\n",
       "      <td>PROMAX¿ SERIES BARD® C-MAX¿ CUTTING LOOP</td>\n",
       "      <td>CUTTING LOOP</td>\n",
       "      <td>C.R. BARD, INC. (COVINGTON) -1018233</td>\n",
       "      <td>8195 INDUSTRIAL BLVD</td>\n",
       "      <td>...</td>\n",
       "      <td>UNK</td>\n",
       "      <td>NaN</td>\n",
       "      <td>N</td>\n",
       "      <td>NaN</td>\n",
       "      <td>FAS</td>\n",
       "      <td>DA</td>\n",
       "      <td>R</td>\n",
       "      <td>N</td>\n",
       "      <td>00801741018572</td>\n",
       "      <td>(01)00801741018572</td>\n",
       "    </tr>\n",
       "    <tr>\n",
       "      <th>4</th>\n",
       "      <td>8155636</td>\n",
       "      <td>NaN</td>\n",
       "      <td>NaN</td>\n",
       "      <td>NaN</td>\n",
       "      <td>1</td>\n",
       "      <td>2019/01/03</td>\n",
       "      <td>ENDO ANCHOR SYSTEM - HELI-FX AAA</td>\n",
       "      <td>ENDOVASCULAR SUTURING SYSTEM</td>\n",
       "      <td>MEDTRONIC IRELAND</td>\n",
       "      <td>PARKMORE BUSINESS PARK WEST</td>\n",
       "      <td>...</td>\n",
       "      <td>NaN</td>\n",
       "      <td>NaN</td>\n",
       "      <td>N</td>\n",
       "      <td>NaN</td>\n",
       "      <td>OTD</td>\n",
       "      <td>DA</td>\n",
       "      <td>*</td>\n",
       "      <td>N</td>\n",
       "      <td>NaN</td>\n",
       "      <td>NaN</td>\n",
       "    </tr>\n",
       "  </tbody>\n",
       "</table>\n",
       "<p>5 rows × 31 columns</p>\n",
       "</div>"
      ],
      "text/plain": [
       "  MDR_REPORT_KEY DEVICE_EVENT_KEY IMPLANT_FLAG DATE_REMOVED_FLAG   \n",
       "0        7491296              NaN          NaN               NaN  \\\n",
       "1        7811695              NaN          NaN               NaN   \n",
       "2        7987287              NaN          NaN               NaN   \n",
       "3        8033177              NaN          NaN               NaN   \n",
       "4        8155636              NaN          NaN               NaN   \n",
       "\n",
       "  DEVICE_SEQUENCE_NO DATE_RECEIVED   \n",
       "0                  1    2019/03/06  \\\n",
       "1                  1    2019/03/08   \n",
       "2                  1    2019/07/18   \n",
       "3                  1    2019/02/06   \n",
       "4                  1    2019/01/03   \n",
       "\n",
       "                                          BRAND_NAME   \n",
       "0  PARADIGM REAL-TIME INSULIN INFUSION PUMP MMT-7...  \\\n",
       "1  MONOPOLAR ACTIVE CORD, BOVIE/VALLEYLAB GENERATORS   \n",
       "2  PARADIGM REAL-TIME REVEL INSULIN INFUSION PUMP...   \n",
       "3           PROMAX¿ SERIES BARD® C-MAX¿ CUTTING LOOP   \n",
       "4                   ENDO ANCHOR SYSTEM - HELI-FX AAA   \n",
       "\n",
       "                                        GENERIC_NAME   \n",
       "0  PUMP, INFUSION, INSULIN, TO BE USED WITH INVAS...  \\\n",
       "1                              MONOPOLAR ACTIVE CORD   \n",
       "2  PUMP, INFUSION, INSULIN, TO BE USED WITH INVAS...   \n",
       "3                                       CUTTING LOOP   \n",
       "4                       ENDOVASCULAR SUTURING SYSTEM   \n",
       "\n",
       "                    MANUFACTURER_D_NAME        MANUFACTURER_D_ADDRESS_1  ...   \n",
       "0  MEDTRONIC PUERTO RICO OPERATIONS CO.  CEIBA NORTE IND. PARK #50 ROAD  ...  \\\n",
       "1                       GYRUS ACMI, INC               136 TURNPIKE ROAD  ...   \n",
       "2  MEDTRONIC PUERTO RICO OPERATIONS CO.  CEIBA NORTE IND. PARK #50 ROAD  ...   \n",
       "3  C.R. BARD, INC. (COVINGTON) -1018233            8195 INDUSTRIAL BLVD  ...   \n",
       "4                     MEDTRONIC IRELAND     PARKMORE BUSINESS PARK WEST  ...   \n",
       "\n",
       "   LOT_NUMBER OTHER_ID_NUMBER DEVICE_AVAILABILITY   \n",
       "0   A4722NASJ             NaN                   R  \\\n",
       "1          1K             NaN                   R   \n",
       "2  A5723LNALJ             NaN                   R   \n",
       "3         UNK             NaN                   N   \n",
       "4         NaN             NaN                   N   \n",
       "\n",
       "  DATE_RETURNED_TO_MANUFACTURER DEVICE_REPORT_PRODUCT_CODE DEVICE_AGE_TEXT   \n",
       "0                    2018/04/11                        OYC              DA  \\\n",
       "1                    2019/02/07                        FAS              DA   \n",
       "2                    2019/07/10                        OYC              DA   \n",
       "3                           NaN                        FAS              DA   \n",
       "4                           NaN                        OTD              DA   \n",
       "\n",
       "  DEVICE_EVALUATED_BY_MANUFACTUR COMBINATION_PRODUCT_FLAG          UDI-DI   \n",
       "0                              R                        N  00613994373083  \\\n",
       "1                              Y                        N             NaN   \n",
       "2                              R                        N  00643169513891   \n",
       "3                              R                        N  00801741018572   \n",
       "4                              *                        N             NaN   \n",
       "\n",
       "           UDI-PUBLIC  \n",
       "0  (01)00613994373083  \n",
       "1                 NaN  \n",
       "2  (01)00643169513891  \n",
       "3  (01)00801741018572  \n",
       "4                 NaN  \n",
       "\n",
       "[5 rows x 31 columns]"
      ]
     },
     "execution_count": 6,
     "metadata": {},
     "output_type": "execute_result"
    }
   ],
   "source": [
    "patient.head()"
   ]
  },
  {
   "cell_type": "code",
   "execution_count": 7,
   "metadata": {},
   "outputs": [],
   "source": [
    "patient_filtered = patient[patient['GENERIC_NAME'].str.contains(\"MESH, SURGICAL, SYNTHETIC, UROGYNECOLOGIC, FOR STRESS URINARY INCONTINENCE, RETR\").fillna(False)]"
   ]
  },
  {
   "cell_type": "code",
   "execution_count": 10,
   "metadata": {},
   "outputs": [
    {
     "data": {
      "text/plain": [
       "(238, 31)"
      ]
     },
     "execution_count": 10,
     "metadata": {},
     "output_type": "execute_result"
    }
   ],
   "source": [
    "patient_filtered.shape"
   ]
  },
  {
   "cell_type": "code",
   "execution_count": 12,
   "metadata": {},
   "outputs": [
    {
     "data": {
      "text/plain": [
       "(2034, 31)"
      ]
     },
     "execution_count": 12,
     "metadata": {},
     "output_type": "execute_result"
    }
   ],
   "source": [
    "device_full_files.shape"
   ]
  }
 ],
 "metadata": {
  "kernelspec": {
   "display_name": "Python 3",
   "language": "python",
   "name": "python3"
  },
  "language_info": {
   "codemirror_mode": {
    "name": "ipython",
    "version": 3
   },
   "file_extension": ".py",
   "mimetype": "text/x-python",
   "name": "python",
   "nbconvert_exporter": "python",
   "pygments_lexer": "ipython3",
   "version": "3.10.10"
  },
  "orig_nbformat": 4
 },
 "nbformat": 4,
 "nbformat_minor": 2
}
