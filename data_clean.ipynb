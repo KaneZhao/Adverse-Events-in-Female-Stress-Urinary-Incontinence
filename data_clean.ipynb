{
 "cells": [
  {
   "cell_type": "code",
   "execution_count": 1,
   "metadata": {},
   "outputs": [],
   "source": [
    "import pandas as pd\n",
    "import numpy as np\n",
    "import matplotlib.pyplot as plt\n",
    "import seaborn as sns\n",
    "# import tensorflow as tf\n",
    "# from tensorflow import keras\n",
    "# from keras.models import Sequential\n",
    "# from keras.layers import Dense, LSTM, Dropout\n",
    "# from sklearn.preprocessing import MinMaxScaler\n",
    "# from sklearn.metrics import mean_squared_error\n",
    "# from sklearn import metrics"
   ]
  },
  {
   "cell_type": "code",
   "execution_count": 2,
   "metadata": {},
   "outputs": [],
   "source": [
    "from tqdm.notebook import tqdm\n",
    "import warnings"
   ]
  },
  {
   "cell_type": "code",
   "execution_count": 5,
   "metadata": {},
   "outputs": [
    {
     "data": {
      "application/vnd.jupyter.widget-view+json": {
       "model_id": "4798d761341949299ffc790180b0d965",
       "version_major": 2,
       "version_minor": 0
      },
      "text/plain": [
       "  0%|          | 0/6 [00:00<?, ?it/s]"
      ]
     },
     "metadata": {},
     "output_type": "display_data"
    }
   ],
   "source": [
    "device_full_files = pd.DataFrame()\n",
    "local = False\n",
    "\n",
    "with warnings.catch_warnings():\n",
    "    warnings.filterwarnings(\"ignore\", category=pd.errors.DtypeWarning)\n",
    "    for year in tqdm([2017, 2018, 2019, 2020, 2022, 2023]):\n",
    "        if local:\n",
    "            device_file = pd.read_csv('./data/device%d.zip' % year)\n",
    "        else:\n",
    "            device_file = pd.read_csv('https://www.accessdata.fda.gov/MAUDE/ftparea/device%d.zip' % year, sep='|', quoting=3, encoding = \"ISO-8859-1\")\n",
    "            device_file.to_csv('./data/device%d.zip' % year, index = False)\n",
    "    device_full_files = pd.concat([device_full_files, device_file], ignore_index=True)\n",
    "    device_full_files.to_csv('./data/device_full_files.zip', index = False)        "
   ]
  },
  {
   "cell_type": "code",
   "execution_count": 7,
   "metadata": {},
   "outputs": [],
   "source": [
    "# patient_filtered = patient[patient['GENERIC_NAME'].str.contains(\"MESH, SURGICAL, SYNTHETIC, UROGYNECOLOGIC, FOR STRESS URINARY INCONTINENCE, RETR\").fillna(False)]"
   ]
  },
  {
   "cell_type": "code",
   "execution_count": 27,
   "metadata": {},
   "outputs": [
    {
     "data": {
      "text/plain": [
       "(4684026, 31)"
      ]
     },
     "execution_count": 27,
     "metadata": {},
     "output_type": "execute_result"
    }
   ],
   "source": [
    "device_full_files.shape"
   ]
  },
  {
   "cell_type": "code",
   "execution_count": 5,
   "metadata": {},
   "outputs": [
    {
     "data": {
      "text/plain": [
       "Index(['MDR_REPORT_KEY', 'DEVICE_EVENT_KEY', 'IMPLANT_FLAG',\n",
       "       'DATE_REMOVED_FLAG', 'DEVICE_SEQUENCE_NO', 'DATE_RECEIVED',\n",
       "       'BRAND_NAME', 'GENERIC_NAME', 'MANUFACTURER_D_NAME',\n",
       "       'MANUFACTURER_D_ADDRESS_1', 'MANUFACTURER_D_ADDRESS_2',\n",
       "       'MANUFACTURER_D_CITY', 'MANUFACTURER_D_STATE_CODE',\n",
       "       'MANUFACTURER_D_ZIP_CODE', 'MANUFACTURER_D_ZIP_CODE_EXT',\n",
       "       'MANUFACTURER_D_COUNTRY_CODE', 'MANUFACTURER_D_POSTAL_CODE',\n",
       "       'DEVICE_OPERATOR', 'EXPIRATION_DATE_OF_DEVICE', 'MODEL_NUMBER',\n",
       "       'CATALOG_NUMBER', 'LOT_NUMBER', 'OTHER_ID_NUMBER',\n",
       "       'DEVICE_AVAILABILITY', 'DATE_RETURNED_TO_MANUFACTURER',\n",
       "       'DEVICE_REPORT_PRODUCT_CODE', 'DEVICE_AGE_TEXT',\n",
       "       'DEVICE_EVALUATED_BY_MANUFACTUR', 'COMBINATION_PRODUCT_FLAG', 'UDI-DI',\n",
       "       'UDI-PUBLIC'],\n",
       "      dtype='object')"
      ]
     },
     "execution_count": 5,
     "metadata": {},
     "output_type": "execute_result"
    }
   ],
   "source": [
    "device_full_files.columns"
   ]
  },
  {
   "cell_type": "code",
   "execution_count": 6,
   "metadata": {},
   "outputs": [
    {
     "data": {
      "application/vnd.jupyter.widget-view+json": {
       "model_id": "74d2e4ab262443efbe2b058247ef3c77",
       "version_major": 2,
       "version_minor": 0
      },
      "text/plain": [
       "  0%|          | 0/6 [00:00<?, ?it/s]"
      ]
     },
     "metadata": {},
     "output_type": "display_data"
    }
   ],
   "source": [
    "foitext_files = pd.DataFrame()\n",
    "local = True\n",
    "with warnings.catch_warnings():\n",
    "    warnings.filterwarnings(\"ignore\", category=pd.errors.DtypeWarning)\n",
    "    for year in tqdm([2017, 2018, 2019, 2020, 2022, 2023]):\n",
    "        if local:\n",
    "            foitext_file = pd.read_csv('./data/foitext%d.zip' % year)\n",
    "        else:\n",
    "            foitext_file = pd.read_csv('https://www.accessdata.fda.gov/MAUDE/ftparea/foitext%d.zip' % year, sep='|', quoting=3, encoding = \"ISO-8859-1\")\n",
    "            foitext_file.to_csv('data/foitext%d.zip' % year, index = False)\n",
    "    foitext_files = pd.concat([foitext_files, foitext_file], ignore_index=True)\n",
    "    foitext_files.to_csv('./data/foitext_files.zip', index = False)        "
   ]
  },
  {
   "cell_type": "code",
   "execution_count": 7,
   "metadata": {},
   "outputs": [
    {
     "data": {
      "text/plain": [
       "(5349886, 6)"
      ]
     },
     "execution_count": 7,
     "metadata": {},
     "output_type": "execute_result"
    }
   ],
   "source": [
    "foitext_files.shape"
   ]
  },
  {
   "cell_type": "code",
   "execution_count": 8,
   "metadata": {},
   "outputs": [
    {
     "data": {
      "text/html": [
       "<div>\n",
       "<style scoped>\n",
       "    .dataframe tbody tr th:only-of-type {\n",
       "        vertical-align: middle;\n",
       "    }\n",
       "\n",
       "    .dataframe tbody tr th {\n",
       "        vertical-align: top;\n",
       "    }\n",
       "\n",
       "    .dataframe thead th {\n",
       "        text-align: right;\n",
       "    }\n",
       "</style>\n",
       "<table border=\"1\" class=\"dataframe\">\n",
       "  <thead>\n",
       "    <tr style=\"text-align: right;\">\n",
       "      <th></th>\n",
       "      <th>MDR_REPORT_KEY</th>\n",
       "      <th>MDR_TEXT_KEY</th>\n",
       "      <th>TEXT_TYPE_CODE</th>\n",
       "      <th>PATIENT_SEQUENCE_NUMBER</th>\n",
       "      <th>DATE_REPORT</th>\n",
       "      <th>FOI_TEXT</th>\n",
       "    </tr>\n",
       "  </thead>\n",
       "  <tbody>\n",
       "    <tr>\n",
       "      <th>5349881</th>\n",
       "      <td>17691083</td>\n",
       "      <td>344967545</td>\n",
       "      <td>D</td>\n",
       "      <td>0</td>\n",
       "      <td>NaN</td>\n",
       "      <td>IT WAS REPORTED THAT SIGNAL LOSS OVER ONE HOUR...</td>\n",
       "    </tr>\n",
       "    <tr>\n",
       "      <th>5349882</th>\n",
       "      <td>17691083</td>\n",
       "      <td>344967546</td>\n",
       "      <td>N</td>\n",
       "      <td>0</td>\n",
       "      <td>NaN</td>\n",
       "      <td>(B)(4).</td>\n",
       "    </tr>\n",
       "    <tr>\n",
       "      <th>5349883</th>\n",
       "      <td>17720251</td>\n",
       "      <td>344967659</td>\n",
       "      <td>D</td>\n",
       "      <td>0</td>\n",
       "      <td>NaN</td>\n",
       "      <td>IT WAS REPORTED THAT SIGNAL LOSS OVER ONE HOUR...</td>\n",
       "    </tr>\n",
       "    <tr>\n",
       "      <th>5349884</th>\n",
       "      <td>17720251</td>\n",
       "      <td>344967660</td>\n",
       "      <td>N</td>\n",
       "      <td>0</td>\n",
       "      <td>NaN</td>\n",
       "      <td>(B)(4).</td>\n",
       "    </tr>\n",
       "    <tr>\n",
       "      <th>5349885</th>\n",
       "      <td>16857746</td>\n",
       "      <td>344968002</td>\n",
       "      <td>N</td>\n",
       "      <td>0</td>\n",
       "      <td>NaN</td>\n",
       "      <td>OTHER, OTHER TEXT: ADDITIONAL INFORMATION IS P...</td>\n",
       "    </tr>\n",
       "  </tbody>\n",
       "</table>\n",
       "</div>"
      ],
      "text/plain": [
       "         MDR_REPORT_KEY  MDR_TEXT_KEY TEXT_TYPE_CODE  PATIENT_SEQUENCE_NUMBER   \n",
       "5349881        17691083     344967545              D                        0  \\\n",
       "5349882        17691083     344967546              N                        0   \n",
       "5349883        17720251     344967659              D                        0   \n",
       "5349884        17720251     344967660              N                        0   \n",
       "5349885        16857746     344968002              N                        0   \n",
       "\n",
       "         DATE_REPORT                                           FOI_TEXT  \n",
       "5349881          NaN  IT WAS REPORTED THAT SIGNAL LOSS OVER ONE HOUR...  \n",
       "5349882          NaN                                            (B)(4).  \n",
       "5349883          NaN  IT WAS REPORTED THAT SIGNAL LOSS OVER ONE HOUR...  \n",
       "5349884          NaN                                            (B)(4).  \n",
       "5349885          NaN  OTHER, OTHER TEXT: ADDITIONAL INFORMATION IS P...  "
      ]
     },
     "execution_count": 8,
     "metadata": {},
     "output_type": "execute_result"
    }
   ],
   "source": [
    "foitext_files.tail()"
   ]
  },
  {
   "cell_type": "code",
   "execution_count": 10,
   "metadata": {},
   "outputs": [
    {
     "data": {
      "text/plain": [
       "Index(['MDR_REPORT_KEY', 'MDR_TEXT_KEY', 'TEXT_TYPE_CODE',\n",
       "       'PATIENT_SEQUENCE_NUMBER', 'DATE_REPORT', 'FOI_TEXT'],\n",
       "      dtype='object')"
      ]
     },
     "execution_count": 10,
     "metadata": {},
     "output_type": "execute_result"
    }
   ],
   "source": [
    "foitext_files.columns"
   ]
  },
  {
   "cell_type": "markdown",
   "metadata": {},
   "source": [
    "### Merge data"
   ]
  },
  {
   "cell_type": "code",
   "execution_count": 14,
   "metadata": {},
   "outputs": [],
   "source": [
    "device_full_files = device_full_files[device_full_files['MDR_REPORT_KEY'].apply(type) == int] \n",
    "device_full_files = device_full_files.set_index('MDR_REPORT_KEY')"
   ]
  },
  {
   "cell_type": "code",
   "execution_count": 15,
   "metadata": {},
   "outputs": [],
   "source": [
    "merged_files = foitext_files.join(device_full_files, on = 'MDR_REPORT_KEY', how = 'inner', rsuffix='_device')"
   ]
  },
  {
   "cell_type": "code",
   "execution_count": 16,
   "metadata": {},
   "outputs": [
    {
     "data": {
      "text/html": [
       "<div>\n",
       "<style scoped>\n",
       "    .dataframe tbody tr th:only-of-type {\n",
       "        vertical-align: middle;\n",
       "    }\n",
       "\n",
       "    .dataframe tbody tr th {\n",
       "        vertical-align: top;\n",
       "    }\n",
       "\n",
       "    .dataframe thead th {\n",
       "        text-align: right;\n",
       "    }\n",
       "</style>\n",
       "<table border=\"1\" class=\"dataframe\">\n",
       "  <thead>\n",
       "    <tr style=\"text-align: right;\">\n",
       "      <th></th>\n",
       "      <th>MDR_REPORT_KEY</th>\n",
       "      <th>MDR_TEXT_KEY</th>\n",
       "      <th>TEXT_TYPE_CODE</th>\n",
       "      <th>PATIENT_SEQUENCE_NUMBER</th>\n",
       "      <th>DATE_REPORT</th>\n",
       "      <th>FOI_TEXT</th>\n",
       "      <th>DEVICE_EVENT_KEY</th>\n",
       "      <th>IMPLANT_FLAG</th>\n",
       "      <th>DATE_REMOVED_FLAG</th>\n",
       "      <th>DEVICE_SEQUENCE_NO</th>\n",
       "      <th>...</th>\n",
       "      <th>LOT_NUMBER</th>\n",
       "      <th>OTHER_ID_NUMBER</th>\n",
       "      <th>DEVICE_AVAILABILITY</th>\n",
       "      <th>DATE_RETURNED_TO_MANUFACTURER</th>\n",
       "      <th>DEVICE_REPORT_PRODUCT_CODE</th>\n",
       "      <th>DEVICE_AGE_TEXT</th>\n",
       "      <th>DEVICE_EVALUATED_BY_MANUFACTUR</th>\n",
       "      <th>COMBINATION_PRODUCT_FLAG</th>\n",
       "      <th>UDI-DI</th>\n",
       "      <th>UDI-PUBLIC</th>\n",
       "    </tr>\n",
       "  </thead>\n",
       "  <tbody>\n",
       "    <tr>\n",
       "      <th>59121</th>\n",
       "      <td>16146804</td>\n",
       "      <td>307178579</td>\n",
       "      <td>N</td>\n",
       "      <td>0</td>\n",
       "      <td>NaN</td>\n",
       "      <td>MEDTRONIC IS SUBMITTING THIS REPORT TO COMPLY ...</td>\n",
       "      <td>NaN</td>\n",
       "      <td>NaN</td>\n",
       "      <td>NaN</td>\n",
       "      <td>1</td>\n",
       "      <td>...</td>\n",
       "      <td>NaN</td>\n",
       "      <td>NaN</td>\n",
       "      <td>N</td>\n",
       "      <td>NaN</td>\n",
       "      <td>LWS</td>\n",
       "      <td>DA</td>\n",
       "      <td>*</td>\n",
       "      <td>N</td>\n",
       "      <td>00643169309760</td>\n",
       "      <td>00643169309760</td>\n",
       "    </tr>\n",
       "    <tr>\n",
       "      <th>59122</th>\n",
       "      <td>16146804</td>\n",
       "      <td>307178580</td>\n",
       "      <td>D</td>\n",
       "      <td>0</td>\n",
       "      <td>NaN</td>\n",
       "      <td>IT WAS REPORTED THAT THE RIGHT VENTRICULAR (RV...</td>\n",
       "      <td>NaN</td>\n",
       "      <td>NaN</td>\n",
       "      <td>NaN</td>\n",
       "      <td>1</td>\n",
       "      <td>...</td>\n",
       "      <td>NaN</td>\n",
       "      <td>NaN</td>\n",
       "      <td>N</td>\n",
       "      <td>NaN</td>\n",
       "      <td>LWS</td>\n",
       "      <td>DA</td>\n",
       "      <td>*</td>\n",
       "      <td>N</td>\n",
       "      <td>00643169309760</td>\n",
       "      <td>00643169309760</td>\n",
       "    </tr>\n",
       "    <tr>\n",
       "      <th>4244452</th>\n",
       "      <td>16146804</td>\n",
       "      <td>333665285</td>\n",
       "      <td>N</td>\n",
       "      <td>0</td>\n",
       "      <td>NaN</td>\n",
       "      <td>MEDTRONIC IS SUBMITTING THIS REPORT TO COMPLY ...</td>\n",
       "      <td>NaN</td>\n",
       "      <td>NaN</td>\n",
       "      <td>NaN</td>\n",
       "      <td>1</td>\n",
       "      <td>...</td>\n",
       "      <td>NaN</td>\n",
       "      <td>NaN</td>\n",
       "      <td>N</td>\n",
       "      <td>NaN</td>\n",
       "      <td>LWS</td>\n",
       "      <td>DA</td>\n",
       "      <td>*</td>\n",
       "      <td>N</td>\n",
       "      <td>00643169309760</td>\n",
       "      <td>00643169309760</td>\n",
       "    </tr>\n",
       "    <tr>\n",
       "      <th>4244453</th>\n",
       "      <td>16146804</td>\n",
       "      <td>333665286</td>\n",
       "      <td>D</td>\n",
       "      <td>0</td>\n",
       "      <td>NaN</td>\n",
       "      <td>IT WAS FURTHER REPORTED THAT THE PATIENT HAD A...</td>\n",
       "      <td>NaN</td>\n",
       "      <td>NaN</td>\n",
       "      <td>NaN</td>\n",
       "      <td>1</td>\n",
       "      <td>...</td>\n",
       "      <td>NaN</td>\n",
       "      <td>NaN</td>\n",
       "      <td>N</td>\n",
       "      <td>NaN</td>\n",
       "      <td>LWS</td>\n",
       "      <td>DA</td>\n",
       "      <td>*</td>\n",
       "      <td>N</td>\n",
       "      <td>00643169309760</td>\n",
       "      <td>00643169309760</td>\n",
       "    </tr>\n",
       "    <tr>\n",
       "      <th>59123</th>\n",
       "      <td>16146808</td>\n",
       "      <td>307178590</td>\n",
       "      <td>D</td>\n",
       "      <td>0</td>\n",
       "      <td>NaN</td>\n",
       "      <td>IT WAS REPORTED THAT THE PATIENT HAD A CHRONIC...</td>\n",
       "      <td>NaN</td>\n",
       "      <td>NaN</td>\n",
       "      <td>NaN</td>\n",
       "      <td>1</td>\n",
       "      <td>...</td>\n",
       "      <td>NaN</td>\n",
       "      <td>NaN</td>\n",
       "      <td>R</td>\n",
       "      <td>NaN</td>\n",
       "      <td>DSQ</td>\n",
       "      <td>DA</td>\n",
       "      <td>Y</td>\n",
       "      <td>N</td>\n",
       "      <td>NaN</td>\n",
       "      <td>NaN</td>\n",
       "    </tr>\n",
       "  </tbody>\n",
       "</table>\n",
       "<p>5 rows × 36 columns</p>\n",
       "</div>"
      ],
      "text/plain": [
       "        MDR_REPORT_KEY  MDR_TEXT_KEY TEXT_TYPE_CODE  PATIENT_SEQUENCE_NUMBER   \n",
       "59121         16146804     307178579              N                        0  \\\n",
       "59122         16146804     307178580              D                        0   \n",
       "4244452       16146804     333665285              N                        0   \n",
       "4244453       16146804     333665286              D                        0   \n",
       "59123         16146808     307178590              D                        0   \n",
       "\n",
       "         DATE_REPORT                                           FOI_TEXT   \n",
       "59121            NaN  MEDTRONIC IS SUBMITTING THIS REPORT TO COMPLY ...  \\\n",
       "59122            NaN  IT WAS REPORTED THAT THE RIGHT VENTRICULAR (RV...   \n",
       "4244452          NaN  MEDTRONIC IS SUBMITTING THIS REPORT TO COMPLY ...   \n",
       "4244453          NaN  IT WAS FURTHER REPORTED THAT THE PATIENT HAD A...   \n",
       "59123            NaN  IT WAS REPORTED THAT THE PATIENT HAD A CHRONIC...   \n",
       "\n",
       "        DEVICE_EVENT_KEY IMPLANT_FLAG DATE_REMOVED_FLAG DEVICE_SEQUENCE_NO   \n",
       "59121                NaN          NaN               NaN                  1  \\\n",
       "59122                NaN          NaN               NaN                  1   \n",
       "4244452              NaN          NaN               NaN                  1   \n",
       "4244453              NaN          NaN               NaN                  1   \n",
       "59123                NaN          NaN               NaN                  1   \n",
       "\n",
       "         ... LOT_NUMBER OTHER_ID_NUMBER DEVICE_AVAILABILITY   \n",
       "59121    ...        NaN             NaN                   N  \\\n",
       "59122    ...        NaN             NaN                   N   \n",
       "4244452  ...        NaN             NaN                   N   \n",
       "4244453  ...        NaN             NaN                   N   \n",
       "59123    ...        NaN             NaN                   R   \n",
       "\n",
       "        DATE_RETURNED_TO_MANUFACTURER DEVICE_REPORT_PRODUCT_CODE   \n",
       "59121                             NaN                        LWS  \\\n",
       "59122                             NaN                        LWS   \n",
       "4244452                           NaN                        LWS   \n",
       "4244453                           NaN                        LWS   \n",
       "59123                             NaN                        DSQ   \n",
       "\n",
       "        DEVICE_AGE_TEXT DEVICE_EVALUATED_BY_MANUFACTUR   \n",
       "59121                DA                              *  \\\n",
       "59122                DA                              *   \n",
       "4244452              DA                              *   \n",
       "4244453              DA                              *   \n",
       "59123                DA                              Y   \n",
       "\n",
       "        COMBINATION_PRODUCT_FLAG          UDI-DI      UDI-PUBLIC  \n",
       "59121                          N  00643169309760  00643169309760  \n",
       "59122                          N  00643169309760  00643169309760  \n",
       "4244452                        N  00643169309760  00643169309760  \n",
       "4244453                        N  00643169309760  00643169309760  \n",
       "59123                          N             NaN             NaN  \n",
       "\n",
       "[5 rows x 36 columns]"
      ]
     },
     "execution_count": 16,
     "metadata": {},
     "output_type": "execute_result"
    }
   ],
   "source": [
    "merged_files.head()"
   ]
  },
  {
   "cell_type": "code",
   "execution_count": 18,
   "metadata": {},
   "outputs": [
    {
     "data": {
      "text/plain": [
       "(3244371, 36)"
      ]
     },
     "execution_count": 18,
     "metadata": {},
     "output_type": "execute_result"
    }
   ],
   "source": [
    "merged_files.shape"
   ]
  },
  {
   "cell_type": "code",
   "execution_count": 12,
   "metadata": {},
   "outputs": [
    {
     "name": "stdout",
     "output_type": "stream",
     "text": [
      "<class 'pandas.core.frame.DataFrame'>\n",
      "RangeIndex: 5349886 entries, 0 to 5349885\n",
      "Data columns (total 6 columns):\n",
      " #   Column                   Dtype  \n",
      "---  ------                   -----  \n",
      " 0   MDR_REPORT_KEY           int64  \n",
      " 1   MDR_TEXT_KEY             int64  \n",
      " 2   TEXT_TYPE_CODE           object \n",
      " 3   PATIENT_SEQUENCE_NUMBER  int64  \n",
      " 4   DATE_REPORT              float64\n",
      " 5   FOI_TEXT                 object \n",
      "dtypes: float64(1), int64(3), object(2)\n",
      "memory usage: 244.9+ MB\n"
     ]
    }
   ],
   "source": [
    "foitext_files.info()"
   ]
  },
  {
   "cell_type": "code",
   "execution_count": 13,
   "metadata": {},
   "outputs": [
    {
     "name": "stdout",
     "output_type": "stream",
     "text": [
      "<class 'pandas.core.frame.DataFrame'>\n",
      "RangeIndex: 2342013 entries, 0 to 2342012\n",
      "Data columns (total 31 columns):\n",
      " #   Column                          Dtype \n",
      "---  ------                          ----- \n",
      " 0   MDR_REPORT_KEY                  object\n",
      " 1   DEVICE_EVENT_KEY                object\n",
      " 2   IMPLANT_FLAG                    object\n",
      " 3   DATE_REMOVED_FLAG               object\n",
      " 4   DEVICE_SEQUENCE_NO              object\n",
      " 5   DATE_RECEIVED                   object\n",
      " 6   BRAND_NAME                      object\n",
      " 7   GENERIC_NAME                    object\n",
      " 8   MANUFACTURER_D_NAME             object\n",
      " 9   MANUFACTURER_D_ADDRESS_1        object\n",
      " 10  MANUFACTURER_D_ADDRESS_2        object\n",
      " 11  MANUFACTURER_D_CITY             object\n",
      " 12  MANUFACTURER_D_STATE_CODE       object\n",
      " 13  MANUFACTURER_D_ZIP_CODE         object\n",
      " 14  MANUFACTURER_D_ZIP_CODE_EXT     object\n",
      " 15  MANUFACTURER_D_COUNTRY_CODE     object\n",
      " 16  MANUFACTURER_D_POSTAL_CODE      object\n",
      " 17  DEVICE_OPERATOR                 object\n",
      " 18  EXPIRATION_DATE_OF_DEVICE       object\n",
      " 19  MODEL_NUMBER                    object\n",
      " 20  CATALOG_NUMBER                  object\n",
      " 21  LOT_NUMBER                      object\n",
      " 22  OTHER_ID_NUMBER                 object\n",
      " 23  DEVICE_AVAILABILITY             object\n",
      " 24  DATE_RETURNED_TO_MANUFACTURER   object\n",
      " 25  DEVICE_REPORT_PRODUCT_CODE      object\n",
      " 26  DEVICE_AGE_TEXT                 object\n",
      " 27  DEVICE_EVALUATED_BY_MANUFACTUR  object\n",
      " 28  COMBINATION_PRODUCT_FLAG        object\n",
      " 29  UDI-DI                          object\n",
      " 30  UDI-PUBLIC                      object\n",
      "dtypes: object(31)\n",
      "memory usage: 553.9+ MB\n"
     ]
    }
   ],
   "source": [
    "device_full_files.info()"
   ]
  },
  {
   "cell_type": "code",
   "execution_count": 31,
   "metadata": {},
   "outputs": [
    {
     "data": {
      "text/html": [
       "<div>\n",
       "<style scoped>\n",
       "    .dataframe tbody tr th:only-of-type {\n",
       "        vertical-align: middle;\n",
       "    }\n",
       "\n",
       "    .dataframe tbody tr th {\n",
       "        vertical-align: top;\n",
       "    }\n",
       "\n",
       "    .dataframe thead th {\n",
       "        text-align: right;\n",
       "    }\n",
       "</style>\n",
       "<table border=\"1\" class=\"dataframe\">\n",
       "  <thead>\n",
       "    <tr style=\"text-align: right;\">\n",
       "      <th></th>\n",
       "      <th>MDR_REPORT_KEY</th>\n",
       "      <th>MDR_TEXT_KEY</th>\n",
       "      <th>TEXT_TYPE_CODE</th>\n",
       "      <th>PATIENT_SEQUENCE_NUMBER</th>\n",
       "      <th>DATE_REPORT</th>\n",
       "      <th>FOI_TEXT</th>\n",
       "      <th>DEVICE_EVENT_KEY</th>\n",
       "      <th>IMPLANT_FLAG</th>\n",
       "      <th>DATE_REMOVED_FLAG</th>\n",
       "      <th>DEVICE_SEQUENCE_NO</th>\n",
       "      <th>...</th>\n",
       "      <th>LOT_NUMBER</th>\n",
       "      <th>OTHER_ID_NUMBER</th>\n",
       "      <th>DEVICE_AVAILABILITY</th>\n",
       "      <th>DATE_RETURNED_TO_MANUFACTURER</th>\n",
       "      <th>DEVICE_REPORT_PRODUCT_CODE</th>\n",
       "      <th>DEVICE_AGE_TEXT</th>\n",
       "      <th>DEVICE_EVALUATED_BY_MANUFACTUR</th>\n",
       "      <th>COMBINATION_PRODUCT_FLAG</th>\n",
       "      <th>UDI-DI</th>\n",
       "      <th>UDI-PUBLIC</th>\n",
       "    </tr>\n",
       "  </thead>\n",
       "  <tbody>\n",
       "    <tr>\n",
       "      <th>61009</th>\n",
       "      <td>16148538</td>\n",
       "      <td>307201920</td>\n",
       "      <td>D</td>\n",
       "      <td>0</td>\n",
       "      <td>NaN</td>\n",
       "      <td>IT WAS REPORTED TO BOSTON SCIENTIFIC CORPORATI...</td>\n",
       "      <td>NaN</td>\n",
       "      <td>NaN</td>\n",
       "      <td>NaN</td>\n",
       "      <td>1</td>\n",
       "      <td>...</td>\n",
       "      <td>0023347113</td>\n",
       "      <td>NaN</td>\n",
       "      <td>N</td>\n",
       "      <td>NaN</td>\n",
       "      <td>OTN</td>\n",
       "      <td>NaN</td>\n",
       "      <td>R</td>\n",
       "      <td>N</td>\n",
       "      <td>08714729772880</td>\n",
       "      <td>08714729772880</td>\n",
       "    </tr>\n",
       "    <tr>\n",
       "      <th>61010</th>\n",
       "      <td>16148538</td>\n",
       "      <td>307201921</td>\n",
       "      <td>N</td>\n",
       "      <td>0</td>\n",
       "      <td>NaN</td>\n",
       "      <td>DATE OF EVENT WAS APPROXIMATED TO (B)(6) 2020,...</td>\n",
       "      <td>NaN</td>\n",
       "      <td>NaN</td>\n",
       "      <td>NaN</td>\n",
       "      <td>1</td>\n",
       "      <td>...</td>\n",
       "      <td>0023347113</td>\n",
       "      <td>NaN</td>\n",
       "      <td>N</td>\n",
       "      <td>NaN</td>\n",
       "      <td>OTN</td>\n",
       "      <td>NaN</td>\n",
       "      <td>R</td>\n",
       "      <td>N</td>\n",
       "      <td>08714729772880</td>\n",
       "      <td>08714729772880</td>\n",
       "    </tr>\n",
       "    <tr>\n",
       "      <th>63072</th>\n",
       "      <td>16149148</td>\n",
       "      <td>307215045</td>\n",
       "      <td>D</td>\n",
       "      <td>0</td>\n",
       "      <td>NaN</td>\n",
       "      <td>IT WAS REPORTED TO BOSTON SCIENTIFIC CORPORATI...</td>\n",
       "      <td>NaN</td>\n",
       "      <td>NaN</td>\n",
       "      <td>NaN</td>\n",
       "      <td>1</td>\n",
       "      <td>...</td>\n",
       "      <td>0000050202</td>\n",
       "      <td>NaN</td>\n",
       "      <td>N</td>\n",
       "      <td>NaN</td>\n",
       "      <td>OTN</td>\n",
       "      <td>NaN</td>\n",
       "      <td>R</td>\n",
       "      <td>N</td>\n",
       "      <td>08714729718987</td>\n",
       "      <td>08714729718987</td>\n",
       "    </tr>\n",
       "    <tr>\n",
       "      <th>63073</th>\n",
       "      <td>16149148</td>\n",
       "      <td>307215046</td>\n",
       "      <td>N</td>\n",
       "      <td>0</td>\n",
       "      <td>NaN</td>\n",
       "      <td>DATE OF EVENT WAS APPROXIMATED TO (B)(6) 2017,...</td>\n",
       "      <td>NaN</td>\n",
       "      <td>NaN</td>\n",
       "      <td>NaN</td>\n",
       "      <td>1</td>\n",
       "      <td>...</td>\n",
       "      <td>0000050202</td>\n",
       "      <td>NaN</td>\n",
       "      <td>N</td>\n",
       "      <td>NaN</td>\n",
       "      <td>OTN</td>\n",
       "      <td>NaN</td>\n",
       "      <td>R</td>\n",
       "      <td>N</td>\n",
       "      <td>08714729718987</td>\n",
       "      <td>08714729718987</td>\n",
       "    </tr>\n",
       "    <tr>\n",
       "      <th>68173</th>\n",
       "      <td>16148572</td>\n",
       "      <td>307287715</td>\n",
       "      <td>D</td>\n",
       "      <td>0</td>\n",
       "      <td>NaN</td>\n",
       "      <td>I HAVE HAD THREE SURGERIES FOR BLADDER ISSUES ...</td>\n",
       "      <td>NaN</td>\n",
       "      <td>NaN</td>\n",
       "      <td>NaN</td>\n",
       "      <td>1</td>\n",
       "      <td>...</td>\n",
       "      <td>NaN</td>\n",
       "      <td>NaN</td>\n",
       "      <td>Y</td>\n",
       "      <td>NaN</td>\n",
       "      <td>OTN</td>\n",
       "      <td>NaN</td>\n",
       "      <td>NaN</td>\n",
       "      <td>N</td>\n",
       "      <td>NaN</td>\n",
       "      <td>NaN</td>\n",
       "    </tr>\n",
       "  </tbody>\n",
       "</table>\n",
       "<p>5 rows × 36 columns</p>\n",
       "</div>"
      ],
      "text/plain": [
       "      MDR_REPORT_KEY  MDR_TEXT_KEY TEXT_TYPE_CODE  PATIENT_SEQUENCE_NUMBER   \n",
       "61009       16148538     307201920              D                        0  \\\n",
       "61010       16148538     307201921              N                        0   \n",
       "63072       16149148     307215045              D                        0   \n",
       "63073       16149148     307215046              N                        0   \n",
       "68173       16148572     307287715              D                        0   \n",
       "\n",
       "       DATE_REPORT                                           FOI_TEXT   \n",
       "61009          NaN  IT WAS REPORTED TO BOSTON SCIENTIFIC CORPORATI...  \\\n",
       "61010          NaN  DATE OF EVENT WAS APPROXIMATED TO (B)(6) 2020,...   \n",
       "63072          NaN  IT WAS REPORTED TO BOSTON SCIENTIFIC CORPORATI...   \n",
       "63073          NaN  DATE OF EVENT WAS APPROXIMATED TO (B)(6) 2017,...   \n",
       "68173          NaN  I HAVE HAD THREE SURGERIES FOR BLADDER ISSUES ...   \n",
       "\n",
       "      DEVICE_EVENT_KEY IMPLANT_FLAG DATE_REMOVED_FLAG DEVICE_SEQUENCE_NO  ...   \n",
       "61009              NaN          NaN               NaN                  1  ...  \\\n",
       "61010              NaN          NaN               NaN                  1  ...   \n",
       "63072              NaN          NaN               NaN                  1  ...   \n",
       "63073              NaN          NaN               NaN                  1  ...   \n",
       "68173              NaN          NaN               NaN                  1  ...   \n",
       "\n",
       "       LOT_NUMBER OTHER_ID_NUMBER DEVICE_AVAILABILITY   \n",
       "61009  0023347113             NaN                   N  \\\n",
       "61010  0023347113             NaN                   N   \n",
       "63072  0000050202             NaN                   N   \n",
       "63073  0000050202             NaN                   N   \n",
       "68173         NaN             NaN                   Y   \n",
       "\n",
       "      DATE_RETURNED_TO_MANUFACTURER DEVICE_REPORT_PRODUCT_CODE   \n",
       "61009                           NaN                        OTN  \\\n",
       "61010                           NaN                        OTN   \n",
       "63072                           NaN                        OTN   \n",
       "63073                           NaN                        OTN   \n",
       "68173                           NaN                        OTN   \n",
       "\n",
       "      DEVICE_AGE_TEXT DEVICE_EVALUATED_BY_MANUFACTUR COMBINATION_PRODUCT_FLAG   \n",
       "61009             NaN                              R                        N  \\\n",
       "61010             NaN                              R                        N   \n",
       "63072             NaN                              R                        N   \n",
       "63073             NaN                              R                        N   \n",
       "68173             NaN                            NaN                        N   \n",
       "\n",
       "               UDI-DI      UDI-PUBLIC  \n",
       "61009  08714729772880  08714729772880  \n",
       "61010  08714729772880  08714729772880  \n",
       "63072  08714729718987  08714729718987  \n",
       "63073  08714729718987  08714729718987  \n",
       "68173             NaN             NaN  \n",
       "\n",
       "[5 rows x 36 columns]"
      ]
     },
     "execution_count": 31,
     "metadata": {},
     "output_type": "execute_result"
    }
   ],
   "source": [
    "merged_files_filtered = merged_files[merged_files[\"GENERIC_NAME\"].str.contains(\"STRESS URINARY INCONTINENCE\")== True]\n",
    "merged_files_filtered.head()"
   ]
  },
  {
   "cell_type": "code",
   "execution_count": 32,
   "metadata": {},
   "outputs": [
    {
     "data": {
      "text/plain": [
       "(1113, 36)"
      ]
     },
     "execution_count": 32,
     "metadata": {},
     "output_type": "execute_result"
    }
   ],
   "source": [
    "merged_files_filtered.shape"
   ]
  },
  {
   "cell_type": "code",
   "execution_count": 33,
   "metadata": {},
   "outputs": [
    {
     "data": {
      "text/plain": [
       "GENERIC_NAME\n",
       "MESH, SURGICAL, SYNTHETIC, UROGYNECOLOGIC, FOR STRESS URINARY INCONTINENCE, RETR    892\n",
       "FEMALE STRESS URINARY INCONTINENCE SURGICAL MESH-SLING, SYNTHETIC POLYMER           140\n",
       "MESH, SURGICAL, SYNTHETIC, UROGYNECOLOGIC, FOR STRESS URINARY INCONTINENCE, FEMA     44\n",
       "MESH SURGICAL FOR STRESS URINARY INCONTINENCE MALE                                   27\n",
       "MALE STRESS URINARY INCONTINENCE SURGICAL MESH-SLING, SYNTHETIC POLYMER               7\n",
       "MESH, SURGICAL, SYNTHETIC, UROGYNECOLOGIC, FOR STRESS URINARY INCONTINENCE            2\n",
       "STRESS URINARY INCONTINENCE, RETROPUBIC OR TRANSOBTURATOR                             1\n",
       "Name: count, dtype: int64"
      ]
     },
     "execution_count": 33,
     "metadata": {},
     "output_type": "execute_result"
    }
   ],
   "source": [
    "merged_files_filtered[\"GENERIC_NAME\"].value_counts()"
   ]
  },
  {
   "cell_type": "code",
   "execution_count": 34,
   "metadata": {},
   "outputs": [
    {
     "data": {
      "text/plain": [
       "1113"
      ]
     },
     "execution_count": 34,
     "metadata": {},
     "output_type": "execute_result"
    }
   ],
   "source": [
    "merged_files_filtered[\"GENERIC_NAME\"].count()"
   ]
  },
  {
   "cell_type": "code",
   "execution_count": 28,
   "metadata": {},
   "outputs": [
    {
     "data": {
      "text/plain": [
       "'stress urinary incontinence'"
      ]
     },
     "execution_count": 28,
     "metadata": {},
     "output_type": "execute_result"
    }
   ],
   "source": [
    "\"STRESS URINARY INCONTINENCE\".lower()"
   ]
  },
  {
   "cell_type": "code",
   "execution_count": 36,
   "metadata": {},
   "outputs": [],
   "source": [
    "# merged_files_filtered.to_csv('./data/stress_urinary_incontinence.csv')"
   ]
  },
  {
   "cell_type": "code",
   "execution_count": 37,
   "metadata": {},
   "outputs": [],
   "source": [
    "patient_text = merged_files_filtered[\"FOI_TEXT\"].dropna()"
   ]
  },
  {
   "cell_type": "code",
   "execution_count": 39,
   "metadata": {},
   "outputs": [
    {
     "data": {
      "text/plain": [
       "(1113,)"
      ]
     },
     "execution_count": 39,
     "metadata": {},
     "output_type": "execute_result"
    }
   ],
   "source": [
    "patient_text.shape"
   ]
  }
 ],
 "metadata": {
  "kernelspec": {
   "display_name": "Python 3",
   "language": "python",
   "name": "python3"
  },
  "language_info": {
   "codemirror_mode": {
    "name": "ipython",
    "version": 3
   },
   "file_extension": ".py",
   "mimetype": "text/x-python",
   "name": "python",
   "nbconvert_exporter": "python",
   "pygments_lexer": "ipython3",
   "version": "3.10.10"
  },
  "orig_nbformat": 4
 },
 "nbformat": 4,
 "nbformat_minor": 2
}
